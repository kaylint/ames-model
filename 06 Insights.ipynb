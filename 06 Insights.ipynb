{
 "metadata": {
  "language_info": {
   "codemirror_mode": {
    "name": "ipython",
    "version": 3
   },
   "file_extension": ".py",
   "mimetype": "text/x-python",
   "name": "python",
   "nbconvert_exporter": "python",
   "pygments_lexer": "ipython3",
   "version": "3.8.5"
  },
  "orig_nbformat": 2,
  "kernelspec": {
   "name": "python385jvsc74a57bd05a320894b34090ecca04137520f6fe2ac50253f9dcf4b51d9c389ebaa9d4cf20",
   "display_name": "Python 3.8.5 64-bit ('base': conda)"
  }
 },
 "nbformat": 4,
 "nbformat_minor": 2,
 "cells": [
  {
   "cell_type": "code",
   "execution_count": 37,
   "metadata": {},
   "outputs": [],
   "source": [
    "#imports\n",
    "import numpy as np\n",
    "import pandas as pd\n",
    "import matplotlib.pyplot as plt\n",
    "import seaborn as sns"
   ]
  },
  {
   "cell_type": "code",
   "execution_count": 38,
   "metadata": {},
   "outputs": [],
   "source": [
    "#open both train and test dataset\n",
    "train = pd.read_csv('datasets/train_feature_engineer.csv')\n",
    "test = pd.read_csv('datasets/test_feature_engineer.csv')"
   ]
  },
  {
   "cell_type": "code",
   "execution_count": 39,
   "metadata": {},
   "outputs": [
    {
     "output_type": "execute_result",
     "data": {
      "text/plain": [
       "   MS SubClass  Lot Frontage  Lot Area  Lot Shape  Land Slope  Overall Qual  \\\n",
       "0           60           0.0     13517          2           1             6   \n",
       "1           60          43.0     11492          2           1             7   \n",
       "2           20          68.0      7922          1           1             5   \n",
       "3           60          73.0      9802          1           1             5   \n",
       "4           50          82.0     14235          2           1             6   \n",
       "\n",
       "   Overall Cond  Year Built  Year Remod/Add  Mas Vnr Area  ...  Sale Type_Oth  \\\n",
       "0             8        1976            2005         289.0  ...              0   \n",
       "1             5        1996            1997         132.0  ...              0   \n",
       "2             7        1953            2007           0.0  ...              0   \n",
       "3             5        2006            2007           0.0  ...              0   \n",
       "4             8        1900            1993           0.0  ...              0   \n",
       "\n",
       "   Sale Type_WD   Roof Matl_Metal  Mas Vnr Type_CBlock  Exterior 2nd_Other  \\\n",
       "0              1                0                    0                   0   \n",
       "1              1                0                    0                   0   \n",
       "2              1                0                    0                   0   \n",
       "3              1                0                    0                   0   \n",
       "4              1                0                    0                   0   \n",
       "\n",
       "   Exterior 2nd_PreCast  Sale Type_VWD  Heating_GasA  Exterior 1st_PreCast  \\\n",
       "0                     0              0             0                     0   \n",
       "1                     0              0             0                     0   \n",
       "2                     0              0             0                     0   \n",
       "3                     0              0             0                     0   \n",
       "4                     0              0             0                     0   \n",
       "\n",
       "   Roof Matl_Roll  \n",
       "0               0  \n",
       "1               0  \n",
       "2               0  \n",
       "3               0  \n",
       "4               0  \n",
       "\n",
       "[5 rows x 143 columns]"
      ],
      "text/html": "<div>\n<style scoped>\n    .dataframe tbody tr th:only-of-type {\n        vertical-align: middle;\n    }\n\n    .dataframe tbody tr th {\n        vertical-align: top;\n    }\n\n    .dataframe thead th {\n        text-align: right;\n    }\n</style>\n<table border=\"1\" class=\"dataframe\">\n  <thead>\n    <tr style=\"text-align: right;\">\n      <th></th>\n      <th>MS SubClass</th>\n      <th>Lot Frontage</th>\n      <th>Lot Area</th>\n      <th>Lot Shape</th>\n      <th>Land Slope</th>\n      <th>Overall Qual</th>\n      <th>Overall Cond</th>\n      <th>Year Built</th>\n      <th>Year Remod/Add</th>\n      <th>Mas Vnr Area</th>\n      <th>...</th>\n      <th>Sale Type_Oth</th>\n      <th>Sale Type_WD</th>\n      <th>Roof Matl_Metal</th>\n      <th>Mas Vnr Type_CBlock</th>\n      <th>Exterior 2nd_Other</th>\n      <th>Exterior 2nd_PreCast</th>\n      <th>Sale Type_VWD</th>\n      <th>Heating_GasA</th>\n      <th>Exterior 1st_PreCast</th>\n      <th>Roof Matl_Roll</th>\n    </tr>\n  </thead>\n  <tbody>\n    <tr>\n      <th>0</th>\n      <td>60</td>\n      <td>0.0</td>\n      <td>13517</td>\n      <td>2</td>\n      <td>1</td>\n      <td>6</td>\n      <td>8</td>\n      <td>1976</td>\n      <td>2005</td>\n      <td>289.0</td>\n      <td>...</td>\n      <td>0</td>\n      <td>1</td>\n      <td>0</td>\n      <td>0</td>\n      <td>0</td>\n      <td>0</td>\n      <td>0</td>\n      <td>0</td>\n      <td>0</td>\n      <td>0</td>\n    </tr>\n    <tr>\n      <th>1</th>\n      <td>60</td>\n      <td>43.0</td>\n      <td>11492</td>\n      <td>2</td>\n      <td>1</td>\n      <td>7</td>\n      <td>5</td>\n      <td>1996</td>\n      <td>1997</td>\n      <td>132.0</td>\n      <td>...</td>\n      <td>0</td>\n      <td>1</td>\n      <td>0</td>\n      <td>0</td>\n      <td>0</td>\n      <td>0</td>\n      <td>0</td>\n      <td>0</td>\n      <td>0</td>\n      <td>0</td>\n    </tr>\n    <tr>\n      <th>2</th>\n      <td>20</td>\n      <td>68.0</td>\n      <td>7922</td>\n      <td>1</td>\n      <td>1</td>\n      <td>5</td>\n      <td>7</td>\n      <td>1953</td>\n      <td>2007</td>\n      <td>0.0</td>\n      <td>...</td>\n      <td>0</td>\n      <td>1</td>\n      <td>0</td>\n      <td>0</td>\n      <td>0</td>\n      <td>0</td>\n      <td>0</td>\n      <td>0</td>\n      <td>0</td>\n      <td>0</td>\n    </tr>\n    <tr>\n      <th>3</th>\n      <td>60</td>\n      <td>73.0</td>\n      <td>9802</td>\n      <td>1</td>\n      <td>1</td>\n      <td>5</td>\n      <td>5</td>\n      <td>2006</td>\n      <td>2007</td>\n      <td>0.0</td>\n      <td>...</td>\n      <td>0</td>\n      <td>1</td>\n      <td>0</td>\n      <td>0</td>\n      <td>0</td>\n      <td>0</td>\n      <td>0</td>\n      <td>0</td>\n      <td>0</td>\n      <td>0</td>\n    </tr>\n    <tr>\n      <th>4</th>\n      <td>50</td>\n      <td>82.0</td>\n      <td>14235</td>\n      <td>2</td>\n      <td>1</td>\n      <td>6</td>\n      <td>8</td>\n      <td>1900</td>\n      <td>1993</td>\n      <td>0.0</td>\n      <td>...</td>\n      <td>0</td>\n      <td>1</td>\n      <td>0</td>\n      <td>0</td>\n      <td>0</td>\n      <td>0</td>\n      <td>0</td>\n      <td>0</td>\n      <td>0</td>\n      <td>0</td>\n    </tr>\n  </tbody>\n</table>\n<p>5 rows × 143 columns</p>\n</div>"
     },
     "metadata": {},
     "execution_count": 39
    }
   ],
   "source": [
    "#check if data is loaded correctly\n",
    "train.head()\n"
   ]
  },
  {
   "cell_type": "code",
   "execution_count": 72,
   "metadata": {},
   "outputs": [
    {
     "output_type": "stream",
     "name": "stdout",
     "text": [
      "['MS SubClass', 'Lot Frontage', 'Lot Area', 'Lot Shape', 'Land Slope', 'Overall Qual', 'Overall Cond', 'Year Built', 'Year Remod/Add', 'Mas Vnr Area', 'Exter Qual', 'Exter Cond', 'Bsmt Qual', 'Bsmt Cond', 'Bsmt Exposure', 'BsmtFin Type 1', 'BsmtFin SF 1', 'Bsmt Unf SF', 'Total Bsmt SF', 'Heating QC', 'Electrical', '2nd Flr SF', 'Low Qual Fin SF', 'Gr Liv Area', 'Bsmt Full Bath', 'Bsmt Half Bath', 'Full Bath', 'Half Bath', 'Bedroom AbvGr', 'Kitchen AbvGr', 'Kitchen Qual', 'Functional', 'Fireplaces', 'Garage Yr Blt', 'Garage Finish', 'Garage Cars', 'Paved Drive', 'Wood Deck SF', 'Open Porch SF', 'Enclosed Porch', '3Ssn Porch', 'Screen Porch', 'Fence', 'Mo Sold', 'SalePrice', 'MS Zoning_C (all)', 'MS Zoning_FV', 'MS Zoning_I (all)', 'MS Zoning_RH', 'MS Zoning_RL', 'Street_Pave', 'Alley_None', 'Land Contour_HLS', 'Land Contour_Low', 'Land Contour_Lvl', 'Lot Config_CulDSac', 'Lot Config_Inside', 'Neighborhood_BrDale', 'Neighborhood_BrkSide', 'Neighborhood_ClearCr', 'Neighborhood_CollgCr', 'Neighborhood_Crawfor', 'Neighborhood_Edwards', 'Neighborhood_GrnHill', 'Neighborhood_IDOTRR', 'Neighborhood_MeadowV', 'Neighborhood_Mitchel', 'Neighborhood_NAmes', 'Neighborhood_NPkVill', 'Neighborhood_NWAmes', 'Neighborhood_NoRidge', 'Neighborhood_NridgHt', 'Neighborhood_OldTown', 'Neighborhood_SWISU', 'Neighborhood_Sawyer', 'Neighborhood_StoneBr', 'Neighborhood_Timber', 'Neighborhood_Veenker', 'Condition 1_Feedr', 'Condition 1_Norm', 'Condition 1_PosA', 'Condition 1_PosN', 'Condition 1_RRAe', 'Condition 2_Feedr', 'Condition 2_PosA', 'Condition 2_PosN', 'Condition 2_RRNn', 'Bldg Type_2fmCon', 'Bldg Type_Duplex', 'Bldg Type_Twnhs', 'Bldg Type_TwnhsE', 'House Style_1.5Unf', 'House Style_2.5Fin', 'House Style_SFoyer', 'House Style_SLvl', 'Roof Style_Gable', 'Roof Style_Gambrel', 'Roof Matl_CompShg', 'Roof Matl_WdShake', 'Roof Matl_WdShngl', 'Exterior 1st_CBlock', 'Exterior 1st_CemntBd', 'Exterior 1st_HdBoard', 'Exterior 1st_MetalSd', 'Exterior 1st_Plywood', 'Exterior 1st_Stone', 'Exterior 1st_Stucco', 'Exterior 1st_VinylSd', 'Exterior 1st_Wd Sdng', 'Exterior 1st_WdShing', 'Exterior 2nd_CBlock', 'Exterior 2nd_ImStucc', 'Exterior 2nd_Plywood', 'Exterior 2nd_Stucco', 'Exterior 2nd_Wd Shng', 'Mas Vnr Type_BrkFace', 'Mas Vnr Type_Stone', 'Foundation_CBlock', 'Foundation_PConc', 'Foundation_Slab', 'Heating_GasW', 'Heating_Grav', 'Heating_Wall', 'Central Air_Y', 'Garage Type_Attchd', 'Garage Type_Basment', 'Garage Type_BuiltIn', 'Garage Type_CarPort', 'Garage Type_Detchd', 'Sale Type_Con', 'Sale Type_ConLD', 'Sale Type_ConLw', 'Sale Type_New', 'Sale Type_Oth', 'Sale Type_WD ', 'Roof Matl_Metal', 'Mas Vnr Type_CBlock', 'Exterior 2nd_Other', 'Exterior 2nd_PreCast', 'Sale Type_VWD', 'Heating_GasA', 'Exterior 1st_PreCast', 'Roof Matl_Roll']\n"
     ]
    }
   ],
   "source": [
    "print(list(train.columns))"
   ]
  },
  {
   "cell_type": "code",
   "execution_count": 40,
   "metadata": {},
   "outputs": [
    {
     "output_type": "execute_result",
     "data": {
      "text/plain": [
       "     Id  MS SubClass  Lot Frontage  Lot Area  Lot Shape  Land Slope  \\\n",
       "0  2658          190          69.0      9142          1           1   \n",
       "1  2718           90           0.0      9662          2           1   \n",
       "2  2414           60          58.0     17104          2           1   \n",
       "3  1989           30          60.0      8520          1           1   \n",
       "4   625           20           0.0      9500          2           1   \n",
       "\n",
       "   Overall Qual  Overall Cond  Year Built  Year Remod/Add  ...  Sale Type_Oth  \\\n",
       "0             6             8        1910            1950  ...              0   \n",
       "1             5             4        1977            1977  ...              0   \n",
       "2             7             5        2006            2006  ...              0   \n",
       "3             5             6        1923            2006  ...              0   \n",
       "4             6             5        1963            1963  ...              0   \n",
       "\n",
       "   Sale Type_WD   Roof Matl_Metal  Mas Vnr Type_CBlock  Exterior 2nd_Other  \\\n",
       "0              1                0                    0                   0   \n",
       "1              1                0                    0                   0   \n",
       "2              0                0                    0                   0   \n",
       "3              1                0                    0                   0   \n",
       "4              1                0                    0                   0   \n",
       "\n",
       "   Exterior 2nd_PreCast  Sale Type_VWD  Heating_GasA  Exterior 1st_PreCast  \\\n",
       "0                     0              0             1                     0   \n",
       "1                     0              0             1                     0   \n",
       "2                     0              0             1                     0   \n",
       "3                     0              0             1                     0   \n",
       "4                     0              0             1                     0   \n",
       "\n",
       "   Roof Matl_Roll  \n",
       "0               0  \n",
       "1               0  \n",
       "2               0  \n",
       "3               0  \n",
       "4               0  \n",
       "\n",
       "[5 rows x 143 columns]"
      ],
      "text/html": "<div>\n<style scoped>\n    .dataframe tbody tr th:only-of-type {\n        vertical-align: middle;\n    }\n\n    .dataframe tbody tr th {\n        vertical-align: top;\n    }\n\n    .dataframe thead th {\n        text-align: right;\n    }\n</style>\n<table border=\"1\" class=\"dataframe\">\n  <thead>\n    <tr style=\"text-align: right;\">\n      <th></th>\n      <th>Id</th>\n      <th>MS SubClass</th>\n      <th>Lot Frontage</th>\n      <th>Lot Area</th>\n      <th>Lot Shape</th>\n      <th>Land Slope</th>\n      <th>Overall Qual</th>\n      <th>Overall Cond</th>\n      <th>Year Built</th>\n      <th>Year Remod/Add</th>\n      <th>...</th>\n      <th>Sale Type_Oth</th>\n      <th>Sale Type_WD</th>\n      <th>Roof Matl_Metal</th>\n      <th>Mas Vnr Type_CBlock</th>\n      <th>Exterior 2nd_Other</th>\n      <th>Exterior 2nd_PreCast</th>\n      <th>Sale Type_VWD</th>\n      <th>Heating_GasA</th>\n      <th>Exterior 1st_PreCast</th>\n      <th>Roof Matl_Roll</th>\n    </tr>\n  </thead>\n  <tbody>\n    <tr>\n      <th>0</th>\n      <td>2658</td>\n      <td>190</td>\n      <td>69.0</td>\n      <td>9142</td>\n      <td>1</td>\n      <td>1</td>\n      <td>6</td>\n      <td>8</td>\n      <td>1910</td>\n      <td>1950</td>\n      <td>...</td>\n      <td>0</td>\n      <td>1</td>\n      <td>0</td>\n      <td>0</td>\n      <td>0</td>\n      <td>0</td>\n      <td>0</td>\n      <td>1</td>\n      <td>0</td>\n      <td>0</td>\n    </tr>\n    <tr>\n      <th>1</th>\n      <td>2718</td>\n      <td>90</td>\n      <td>0.0</td>\n      <td>9662</td>\n      <td>2</td>\n      <td>1</td>\n      <td>5</td>\n      <td>4</td>\n      <td>1977</td>\n      <td>1977</td>\n      <td>...</td>\n      <td>0</td>\n      <td>1</td>\n      <td>0</td>\n      <td>0</td>\n      <td>0</td>\n      <td>0</td>\n      <td>0</td>\n      <td>1</td>\n      <td>0</td>\n      <td>0</td>\n    </tr>\n    <tr>\n      <th>2</th>\n      <td>2414</td>\n      <td>60</td>\n      <td>58.0</td>\n      <td>17104</td>\n      <td>2</td>\n      <td>1</td>\n      <td>7</td>\n      <td>5</td>\n      <td>2006</td>\n      <td>2006</td>\n      <td>...</td>\n      <td>0</td>\n      <td>0</td>\n      <td>0</td>\n      <td>0</td>\n      <td>0</td>\n      <td>0</td>\n      <td>0</td>\n      <td>1</td>\n      <td>0</td>\n      <td>0</td>\n    </tr>\n    <tr>\n      <th>3</th>\n      <td>1989</td>\n      <td>30</td>\n      <td>60.0</td>\n      <td>8520</td>\n      <td>1</td>\n      <td>1</td>\n      <td>5</td>\n      <td>6</td>\n      <td>1923</td>\n      <td>2006</td>\n      <td>...</td>\n      <td>0</td>\n      <td>1</td>\n      <td>0</td>\n      <td>0</td>\n      <td>0</td>\n      <td>0</td>\n      <td>0</td>\n      <td>1</td>\n      <td>0</td>\n      <td>0</td>\n    </tr>\n    <tr>\n      <th>4</th>\n      <td>625</td>\n      <td>20</td>\n      <td>0.0</td>\n      <td>9500</td>\n      <td>2</td>\n      <td>1</td>\n      <td>6</td>\n      <td>5</td>\n      <td>1963</td>\n      <td>1963</td>\n      <td>...</td>\n      <td>0</td>\n      <td>1</td>\n      <td>0</td>\n      <td>0</td>\n      <td>0</td>\n      <td>0</td>\n      <td>0</td>\n      <td>1</td>\n      <td>0</td>\n      <td>0</td>\n    </tr>\n  </tbody>\n</table>\n<p>5 rows × 143 columns</p>\n</div>"
     },
     "metadata": {},
     "execution_count": 40
    }
   ],
   "source": [
    "test.head()"
   ]
  },
  {
   "cell_type": "code",
   "execution_count": 41,
   "metadata": {},
   "outputs": [
    {
     "output_type": "execute_result",
     "data": {
      "text/plain": [
       "Index(['MS SubClass', 'Lot Frontage', 'Lot Area', 'Lot Shape', 'Land Slope',\n",
       "       'Overall Qual', 'Overall Cond', 'Year Built', 'Year Remod/Add',\n",
       "       'Mas Vnr Area',\n",
       "       ...\n",
       "       'Sale Type_Oth', 'Sale Type_WD ', 'Roof Matl_Metal',\n",
       "       'Mas Vnr Type_CBlock', 'Exterior 2nd_Other', 'Exterior 2nd_PreCast',\n",
       "       'Sale Type_VWD', 'Heating_GasA', 'Exterior 1st_PreCast',\n",
       "       'Roof Matl_Roll'],\n",
       "      dtype='object', length=143)"
      ]
     },
     "metadata": {},
     "execution_count": 41
    }
   ],
   "source": [
    "train.columns"
   ]
  },
  {
   "cell_type": "code",
   "execution_count": 42,
   "metadata": {},
   "outputs": [
    {
     "output_type": "execute_result",
     "data": {
      "text/plain": [
       "Index(['Id', 'MS SubClass', 'Lot Frontage', 'Lot Area', 'Lot Shape',\n",
       "       'Land Slope', 'Overall Qual', 'Overall Cond', 'Year Built',\n",
       "       'Year Remod/Add',\n",
       "       ...\n",
       "       'Sale Type_Oth', 'Sale Type_WD ', 'Roof Matl_Metal',\n",
       "       'Mas Vnr Type_CBlock', 'Exterior 2nd_Other', 'Exterior 2nd_PreCast',\n",
       "       'Sale Type_VWD', 'Heating_GasA', 'Exterior 1st_PreCast',\n",
       "       'Roof Matl_Roll'],\n",
       "      dtype='object', length=143)"
      ]
     },
     "metadata": {},
     "execution_count": 42
    }
   ],
   "source": [
    "test.columns"
   ]
  },
  {
   "cell_type": "code",
   "execution_count": 55,
   "metadata": {},
   "outputs": [],
   "source": [
    "#load the model\n",
    "from joblib import dump,load\n",
    "model = load('models/pred_model.joblib')\n"
   ]
  },
  {
   "cell_type": "code",
   "execution_count": 56,
   "metadata": {},
   "outputs": [
    {
     "output_type": "execute_result",
     "data": {
      "text/plain": [
       "Pipeline(steps=[('ss', StandardScaler()),\n",
       "                ('en',\n",
       "                 ElasticNet(alpha=0.01, l1_ratio=0.95, max_iter=10000000,\n",
       "                            selection='random', warm_start=True))])"
      ]
     },
     "metadata": {},
     "execution_count": 56
    }
   ],
   "source": [
    "model.best_estimator_"
   ]
  },
  {
   "cell_type": "code",
   "execution_count": 57,
   "metadata": {},
   "outputs": [],
   "source": [
    "en = model.best_estimator_.named_steps['en']"
   ]
  },
  {
   "cell_type": "code",
   "execution_count": 58,
   "metadata": {},
   "outputs": [
    {
     "output_type": "execute_result",
     "data": {
      "text/plain": [
       "array([-0.,  0.,  0., ...,  0.,  0.,  0.])"
      ]
     },
     "metadata": {},
     "execution_count": 58
    }
   ],
   "source": [
    "#these are the coefficients that have been deemed important from GridSearchCV\n",
    "en.coef_"
   ]
  },
  {
   "cell_type": "code",
   "execution_count": 59,
   "metadata": {},
   "outputs": [
    {
     "output_type": "execute_result",
     "data": {
      "text/plain": [
       "(10295,)"
      ]
     },
     "metadata": {},
     "execution_count": 59
    }
   ],
   "source": [
    "en.coef_.shape"
   ]
  },
  {
   "cell_type": "code",
   "execution_count": 60,
   "metadata": {},
   "outputs": [],
   "source": [
    "X = train.drop('SalePrice',axis=1)\n",
    "y = train['SalePrice']\n",
    "X_test = test.drop('Id',axis=1)"
   ]
  },
  {
   "cell_type": "code",
   "execution_count": 61,
   "metadata": {},
   "outputs": [],
   "source": [
    "from sklearn.preprocessing import PolynomialFeatures\n",
    "poly_convert = PolynomialFeatures(include_bias=False)\n",
    "X_poly = poly_convert.fit_transform(X)\n",
    "X_test_poly = poly_convert.fit_transform(X_test)\n",
    "\n"
   ]
  },
  {
   "cell_type": "code",
   "execution_count": 62,
   "metadata": {},
   "outputs": [
    {
     "output_type": "execute_result",
     "data": {
      "text/plain": [
       "(2051, 10295)"
      ]
     },
     "metadata": {},
     "execution_count": 62
    }
   ],
   "source": [
    "X_poly.shape"
   ]
  },
  {
   "cell_type": "code",
   "execution_count": 63,
   "metadata": {},
   "outputs": [
    {
     "output_type": "execute_result",
     "data": {
      "text/plain": [
       "array([[   60.,     0., 13517., ...,     0.,     0.,     0.],\n",
       "       [   60.,    43., 11492., ...,     0.,     0.,     0.],\n",
       "       [   20.,    68.,  7922., ...,     0.,     0.,     0.],\n",
       "       ...,\n",
       "       [   50.,    57.,  7558., ...,     0.,     0.,     0.],\n",
       "       [   20.,    80., 10400., ...,     0.,     0.,     0.],\n",
       "       [   60.,    60.,  7500., ...,     0.,     0.,     0.]])"
      ]
     },
     "metadata": {},
     "execution_count": 63
    }
   ],
   "source": [
    "X_poly"
   ]
  },
  {
   "cell_type": "code",
   "execution_count": 64,
   "metadata": {},
   "outputs": [
    {
     "output_type": "execute_result",
     "data": {
      "text/plain": [
       "(878, 10295)"
      ]
     },
     "metadata": {},
     "execution_count": 64
    }
   ],
   "source": [
    "X_test_poly.shape"
   ]
  },
  {
   "cell_type": "code",
   "execution_count": 65,
   "metadata": {},
   "outputs": [],
   "source": [
    "all_coef = pd.DataFrame({'feature':poly_convert.get_feature_names(list(train.columns)),\n",
    "'coef':en.coef_,\n",
    "'magnitude':abs(en.coef_)})"
   ]
  },
  {
   "cell_type": "code",
   "execution_count": 66,
   "metadata": {},
   "outputs": [],
   "source": [
    "coef = all_coef[all_coef['coef']!=0]\n",
    "#below are non-zero coefficients"
   ]
  },
  {
   "cell_type": "code",
   "execution_count": 67,
   "metadata": {},
   "outputs": [
    {
     "output_type": "execute_result",
     "data": {
      "text/plain": [
       "                                 feature      coef  magnitude\n",
       "844              Overall Qual Year Built  0.069313   0.069313\n",
       "1131              Year Built Gr Liv Area  0.058370   0.058370\n",
       "996             Overall Cond Gr Liv Area  0.058281   0.058281\n",
       "1116           Year Built Year Remod/Add  0.036493   0.036493\n",
       "2623    Total Bsmt SF Roof Style_Gambrel  0.025040   0.025040\n",
       "872             Overall Qual Garage Cars  0.024216   0.024216\n",
       "1436   Mas Vnr Area Neighborhood_Crawfor -0.023337   0.023337\n",
       "2171           BsmtFin Type 1 Heating QC -0.022173   0.022173\n",
       "886            Overall Qual MS Zoning_RL  0.020701   0.020701\n",
       "2356      BsmtFin SF 1 Condition 1_Feedr  0.018903   0.018903\n",
       "4604            Garage Cars Heating_Wall  0.018435   0.018435\n",
       "4033     Kitchen Qual Roof Style_Gambrel -0.014724   0.014724\n",
       "732                Land Slope Fireplaces  0.013916   0.013916\n",
       "4079                        Functional^2 -0.013425   0.013425\n",
       "2588  Total Bsmt SF Neighborhood_Crawfor -0.012495   0.012495\n",
       "3228      Gr Liv Area Roof Style_Gambrel  0.012108   0.012108\n",
       "1115                        Year Built^2  0.011711   0.011711\n",
       "545                Lot Area Heating_Wall  0.011473   0.011473\n",
       "3373        Bsmt Full Bath Central Air_Y  0.010377   0.010377\n",
       "991           Overall Cond Total Bsmt SF  0.010181   0.010181"
      ],
      "text/html": "<div>\n<style scoped>\n    .dataframe tbody tr th:only-of-type {\n        vertical-align: middle;\n    }\n\n    .dataframe tbody tr th {\n        vertical-align: top;\n    }\n\n    .dataframe thead th {\n        text-align: right;\n    }\n</style>\n<table border=\"1\" class=\"dataframe\">\n  <thead>\n    <tr style=\"text-align: right;\">\n      <th></th>\n      <th>feature</th>\n      <th>coef</th>\n      <th>magnitude</th>\n    </tr>\n  </thead>\n  <tbody>\n    <tr>\n      <th>844</th>\n      <td>Overall Qual Year Built</td>\n      <td>0.069313</td>\n      <td>0.069313</td>\n    </tr>\n    <tr>\n      <th>1131</th>\n      <td>Year Built Gr Liv Area</td>\n      <td>0.058370</td>\n      <td>0.058370</td>\n    </tr>\n    <tr>\n      <th>996</th>\n      <td>Overall Cond Gr Liv Area</td>\n      <td>0.058281</td>\n      <td>0.058281</td>\n    </tr>\n    <tr>\n      <th>1116</th>\n      <td>Year Built Year Remod/Add</td>\n      <td>0.036493</td>\n      <td>0.036493</td>\n    </tr>\n    <tr>\n      <th>2623</th>\n      <td>Total Bsmt SF Roof Style_Gambrel</td>\n      <td>0.025040</td>\n      <td>0.025040</td>\n    </tr>\n    <tr>\n      <th>872</th>\n      <td>Overall Qual Garage Cars</td>\n      <td>0.024216</td>\n      <td>0.024216</td>\n    </tr>\n    <tr>\n      <th>1436</th>\n      <td>Mas Vnr Area Neighborhood_Crawfor</td>\n      <td>-0.023337</td>\n      <td>0.023337</td>\n    </tr>\n    <tr>\n      <th>2171</th>\n      <td>BsmtFin Type 1 Heating QC</td>\n      <td>-0.022173</td>\n      <td>0.022173</td>\n    </tr>\n    <tr>\n      <th>886</th>\n      <td>Overall Qual MS Zoning_RL</td>\n      <td>0.020701</td>\n      <td>0.020701</td>\n    </tr>\n    <tr>\n      <th>2356</th>\n      <td>BsmtFin SF 1 Condition 1_Feedr</td>\n      <td>0.018903</td>\n      <td>0.018903</td>\n    </tr>\n    <tr>\n      <th>4604</th>\n      <td>Garage Cars Heating_Wall</td>\n      <td>0.018435</td>\n      <td>0.018435</td>\n    </tr>\n    <tr>\n      <th>4033</th>\n      <td>Kitchen Qual Roof Style_Gambrel</td>\n      <td>-0.014724</td>\n      <td>0.014724</td>\n    </tr>\n    <tr>\n      <th>732</th>\n      <td>Land Slope Fireplaces</td>\n      <td>0.013916</td>\n      <td>0.013916</td>\n    </tr>\n    <tr>\n      <th>4079</th>\n      <td>Functional^2</td>\n      <td>-0.013425</td>\n      <td>0.013425</td>\n    </tr>\n    <tr>\n      <th>2588</th>\n      <td>Total Bsmt SF Neighborhood_Crawfor</td>\n      <td>-0.012495</td>\n      <td>0.012495</td>\n    </tr>\n    <tr>\n      <th>3228</th>\n      <td>Gr Liv Area Roof Style_Gambrel</td>\n      <td>0.012108</td>\n      <td>0.012108</td>\n    </tr>\n    <tr>\n      <th>1115</th>\n      <td>Year Built^2</td>\n      <td>0.011711</td>\n      <td>0.011711</td>\n    </tr>\n    <tr>\n      <th>545</th>\n      <td>Lot Area Heating_Wall</td>\n      <td>0.011473</td>\n      <td>0.011473</td>\n    </tr>\n    <tr>\n      <th>3373</th>\n      <td>Bsmt Full Bath Central Air_Y</td>\n      <td>0.010377</td>\n      <td>0.010377</td>\n    </tr>\n    <tr>\n      <th>991</th>\n      <td>Overall Cond Total Bsmt SF</td>\n      <td>0.010181</td>\n      <td>0.010181</td>\n    </tr>\n  </tbody>\n</table>\n</div>"
     },
     "metadata": {},
     "execution_count": 67
    }
   ],
   "source": [
    "coef.sort_values(by='magnitude',ascending=False).head(20)"
   ]
  },
  {
   "cell_type": "code",
   "execution_count": 73,
   "metadata": {},
   "outputs": [],
   "source": [
    "# the above features have the strongest correlation to sale price\n",
    "# we can see that Gr Liv Area, overall condition and year built have some of the highest positive correlations\n",
    "# Misc Val and if the sale type is ConLw - this has a negative correlation to the sale price\n"
   ]
  },
  {
   "cell_type": "code",
   "execution_count": 74,
   "metadata": {},
   "outputs": [],
   "source": [
    "# Which features appear to add the most value to a home?\n",
    "\n",
    "# 1. Gr Liv Area: This feature high correlation on how much the house will finally sell for.\n",
    "# However, this is not possible to change unless the house is remodelled.abs\n",
    "\n",
    "# 2. Overall Cond: This feature also has a high correlation to the sale price. \n",
    "# This feature rates the overall material and finish of the house.\n",
    "# This feature is slightly subjective as it has to be rated by a human.\n",
    "\n",
    "# Most other features are hard to change as they have to do with size - this will require serious remodelling of the house\n"
   ]
  },
  {
   "cell_type": "code",
   "execution_count": 75,
   "metadata": {},
   "outputs": [],
   "source": [
    "# What are things that homeowners could improve in their homes to increase the value?\n",
    "\n",
    "# A simple thing a homeowner can do to increase the value of the home would be to change the Heating type to Wall\n",
    "# If Heating quality is bad, it also negatively impacts the sale price"
   ]
  },
  {
   "cell_type": "code",
   "execution_count": 76,
   "metadata": {},
   "outputs": [],
   "source": [
    "#take a random sample of 5 houses from our train dataset with lousy heating\n",
    "heating_test = train[train['Heating QC']>=4].sample(5)"
   ]
  },
  {
   "cell_type": "code",
   "execution_count": 77,
   "metadata": {},
   "outputs": [
    {
     "output_type": "execute_result",
     "data": {
      "text/plain": [
       "      Heating QC  SalePrice\n",
       "692            4      78000\n",
       "308            4     129500\n",
       "1353           4     188700\n",
       "562            4      76500\n",
       "16             4      98000"
      ],
      "text/html": "<div>\n<style scoped>\n    .dataframe tbody tr th:only-of-type {\n        vertical-align: middle;\n    }\n\n    .dataframe tbody tr th {\n        vertical-align: top;\n    }\n\n    .dataframe thead th {\n        text-align: right;\n    }\n</style>\n<table border=\"1\" class=\"dataframe\">\n  <thead>\n    <tr style=\"text-align: right;\">\n      <th></th>\n      <th>Heating QC</th>\n      <th>SalePrice</th>\n    </tr>\n  </thead>\n  <tbody>\n    <tr>\n      <th>692</th>\n      <td>4</td>\n      <td>78000</td>\n    </tr>\n    <tr>\n      <th>308</th>\n      <td>4</td>\n      <td>129500</td>\n    </tr>\n    <tr>\n      <th>1353</th>\n      <td>4</td>\n      <td>188700</td>\n    </tr>\n    <tr>\n      <th>562</th>\n      <td>4</td>\n      <td>76500</td>\n    </tr>\n    <tr>\n      <th>16</th>\n      <td>4</td>\n      <td>98000</td>\n    </tr>\n  </tbody>\n</table>\n</div>"
     },
     "metadata": {},
     "execution_count": 77
    }
   ],
   "source": [
    "heating_pred = pd.DataFrame({'Heating QC':heating_test['Heating QC'],\n",
    "'SalePrice':heating_test['SalePrice']})\n",
    "\n",
    "heating_pred\n",
    "#create new dataframe with heating QC and saleprice"
   ]
  },
  {
   "cell_type": "code",
   "execution_count": 78,
   "metadata": {},
   "outputs": [],
   "source": [
    "#Let's use our model to predict the SalePrice for these homes\n",
    "X_ht = heating_test.drop('SalePrice',axis=1)\n",
    "y_ht = heating_test['SalePrice']\n",
    "\n",
    "poly_convert = PolynomialFeatures(include_bias=False)\n",
    "poly_convert.fit(X)\n",
    "X_ht_poly = poly_convert.transform(X_ht)\n",
    "\n",
    "y_ht_pred = model.predict(X_ht_poly)"
   ]
  },
  {
   "cell_type": "code",
   "execution_count": 79,
   "metadata": {},
   "outputs": [
    {
     "output_type": "execute_result",
     "data": {
      "text/plain": [
       "      Heating QC  SalePrice  Pred SalePrice\n",
       "692            4      78000    66708.179281\n",
       "308            4     129500   133304.861392\n",
       "1353           4     188700   167111.156000\n",
       "562            4      76500    86318.653448\n",
       "16             4      98000   101067.394993"
      ],
      "text/html": "<div>\n<style scoped>\n    .dataframe tbody tr th:only-of-type {\n        vertical-align: middle;\n    }\n\n    .dataframe tbody tr th {\n        vertical-align: top;\n    }\n\n    .dataframe thead th {\n        text-align: right;\n    }\n</style>\n<table border=\"1\" class=\"dataframe\">\n  <thead>\n    <tr style=\"text-align: right;\">\n      <th></th>\n      <th>Heating QC</th>\n      <th>SalePrice</th>\n      <th>Pred SalePrice</th>\n    </tr>\n  </thead>\n  <tbody>\n    <tr>\n      <th>692</th>\n      <td>4</td>\n      <td>78000</td>\n      <td>66708.179281</td>\n    </tr>\n    <tr>\n      <th>308</th>\n      <td>4</td>\n      <td>129500</td>\n      <td>133304.861392</td>\n    </tr>\n    <tr>\n      <th>1353</th>\n      <td>4</td>\n      <td>188700</td>\n      <td>167111.156000</td>\n    </tr>\n    <tr>\n      <th>562</th>\n      <td>4</td>\n      <td>76500</td>\n      <td>86318.653448</td>\n    </tr>\n    <tr>\n      <th>16</th>\n      <td>4</td>\n      <td>98000</td>\n      <td>101067.394993</td>\n    </tr>\n  </tbody>\n</table>\n</div>"
     },
     "metadata": {},
     "execution_count": 79
    }
   ],
   "source": [
    "heating_pred['Pred SalePrice'] = np.exp(y_ht_pred)\n",
    "heating_pred \n",
    "#predicted sale price and actual sale price are not too far off"
   ]
  },
  {
   "cell_type": "code",
   "execution_count": 80,
   "metadata": {},
   "outputs": [],
   "source": [
    "#Assuming homeowners upgrade their heating to excellent\n",
    "heating_test['Heating QC'] = 1"
   ]
  },
  {
   "cell_type": "code",
   "execution_count": 81,
   "metadata": {},
   "outputs": [
    {
     "output_type": "execute_result",
     "data": {
      "text/plain": [
       "692     1\n",
       "308     1\n",
       "1353    1\n",
       "562     1\n",
       "16      1\n",
       "Name: Heating QC, dtype: int64"
      ]
     },
     "metadata": {},
     "execution_count": 81
    }
   ],
   "source": [
    "heating_test['Heating QC']"
   ]
  },
  {
   "cell_type": "code",
   "execution_count": 82,
   "metadata": {},
   "outputs": [],
   "source": [
    "#Let's use our model to predict the SalePrice for these homes which have upgraded heating\n",
    "X_ht = heating_test.drop('SalePrice',axis=1)\n",
    "y_ht = heating_test['SalePrice']\n",
    "\n",
    "X_ht_poly = poly_convert.transform(X_ht)\n",
    "\n",
    "y_ht_pred = model.predict(X_ht_poly)"
   ]
  },
  {
   "cell_type": "code",
   "execution_count": 83,
   "metadata": {},
   "outputs": [
    {
     "output_type": "execute_result",
     "data": {
      "text/plain": [
       "      Heating QC  SalePrice  Pred SalePrice  NEW Heating QC  \\\n",
       "692            4      78000    66708.179281               1   \n",
       "308            4     129500   133304.861392               1   \n",
       "1353           4     188700   167111.156000               1   \n",
       "562            4      76500    86318.653448               1   \n",
       "16             4      98000   101067.394993               1   \n",
       "\n",
       "      NEW Pred SalePrice  percent increase  \n",
       "692         71884.895395          7.760242  \n",
       "308        140859.462611          5.667161  \n",
       "1353       177435.593634          6.178186  \n",
       "562         93448.819691          8.260284  \n",
       "16         109027.312811          7.875851  "
      ],
      "text/html": "<div>\n<style scoped>\n    .dataframe tbody tr th:only-of-type {\n        vertical-align: middle;\n    }\n\n    .dataframe tbody tr th {\n        vertical-align: top;\n    }\n\n    .dataframe thead th {\n        text-align: right;\n    }\n</style>\n<table border=\"1\" class=\"dataframe\">\n  <thead>\n    <tr style=\"text-align: right;\">\n      <th></th>\n      <th>Heating QC</th>\n      <th>SalePrice</th>\n      <th>Pred SalePrice</th>\n      <th>NEW Heating QC</th>\n      <th>NEW Pred SalePrice</th>\n      <th>percent increase</th>\n    </tr>\n  </thead>\n  <tbody>\n    <tr>\n      <th>692</th>\n      <td>4</td>\n      <td>78000</td>\n      <td>66708.179281</td>\n      <td>1</td>\n      <td>71884.895395</td>\n      <td>7.760242</td>\n    </tr>\n    <tr>\n      <th>308</th>\n      <td>4</td>\n      <td>129500</td>\n      <td>133304.861392</td>\n      <td>1</td>\n      <td>140859.462611</td>\n      <td>5.667161</td>\n    </tr>\n    <tr>\n      <th>1353</th>\n      <td>4</td>\n      <td>188700</td>\n      <td>167111.156000</td>\n      <td>1</td>\n      <td>177435.593634</td>\n      <td>6.178186</td>\n    </tr>\n    <tr>\n      <th>562</th>\n      <td>4</td>\n      <td>76500</td>\n      <td>86318.653448</td>\n      <td>1</td>\n      <td>93448.819691</td>\n      <td>8.260284</td>\n    </tr>\n    <tr>\n      <th>16</th>\n      <td>4</td>\n      <td>98000</td>\n      <td>101067.394993</td>\n      <td>1</td>\n      <td>109027.312811</td>\n      <td>7.875851</td>\n    </tr>\n  </tbody>\n</table>\n</div>"
     },
     "metadata": {},
     "execution_count": 83
    }
   ],
   "source": [
    "heating_pred['NEW Heating QC'] = 1\n",
    "heating_pred['NEW Pred SalePrice'] = np.exp(y_ht_pred)\n",
    "heating_pred['percent increase'] = 100*((heating_pred['NEW Pred SalePrice'] - heating_pred['Pred SalePrice'])/heating_pred['Pred SalePrice'])\n",
    "\n",
    "heating_pred"
   ]
  },
  {
   "cell_type": "code",
   "execution_count": 84,
   "metadata": {},
   "outputs": [
    {
     "output_type": "execute_result",
     "data": {
      "text/plain": [
       "7.15"
      ]
     },
     "metadata": {},
     "execution_count": 84
    }
   ],
   "source": [
    "round(heating_pred['percent increase'].mean(),2) #average percent increase in value of house\n",
    "#Homeowners can consider upgrading heating to increase the SalePrice of their house"
   ]
  },
  {
   "cell_type": "code",
   "execution_count": 85,
   "metadata": {},
   "outputs": [
    {
     "output_type": "execute_result",
     "data": {
      "text/plain": [
       "                                 feature      coef  magnitude\n",
       "1436   Mas Vnr Area Neighborhood_Crawfor -0.023337   0.023337\n",
       "2171           BsmtFin Type 1 Heating QC -0.022173   0.022173\n",
       "4033     Kitchen Qual Roof Style_Gambrel -0.014724   0.014724\n",
       "4079                        Functional^2 -0.013425   0.013425\n",
       "2588  Total Bsmt SF Neighborhood_Crawfor -0.012495   0.012495"
      ],
      "text/html": "<div>\n<style scoped>\n    .dataframe tbody tr th:only-of-type {\n        vertical-align: middle;\n    }\n\n    .dataframe tbody tr th {\n        vertical-align: top;\n    }\n\n    .dataframe thead th {\n        text-align: right;\n    }\n</style>\n<table border=\"1\" class=\"dataframe\">\n  <thead>\n    <tr style=\"text-align: right;\">\n      <th></th>\n      <th>feature</th>\n      <th>coef</th>\n      <th>magnitude</th>\n    </tr>\n  </thead>\n  <tbody>\n    <tr>\n      <th>1436</th>\n      <td>Mas Vnr Area Neighborhood_Crawfor</td>\n      <td>-0.023337</td>\n      <td>0.023337</td>\n    </tr>\n    <tr>\n      <th>2171</th>\n      <td>BsmtFin Type 1 Heating QC</td>\n      <td>-0.022173</td>\n      <td>0.022173</td>\n    </tr>\n    <tr>\n      <th>4033</th>\n      <td>Kitchen Qual Roof Style_Gambrel</td>\n      <td>-0.014724</td>\n      <td>0.014724</td>\n    </tr>\n    <tr>\n      <th>4079</th>\n      <td>Functional^2</td>\n      <td>-0.013425</td>\n      <td>0.013425</td>\n    </tr>\n    <tr>\n      <th>2588</th>\n      <td>Total Bsmt SF Neighborhood_Crawfor</td>\n      <td>-0.012495</td>\n      <td>0.012495</td>\n    </tr>\n  </tbody>\n</table>\n</div>"
     },
     "metadata": {},
     "execution_count": 85
    }
   ],
   "source": [
    "#Which features hurt the value of a home the most?\n",
    "coef[coef['coef']<0].sort_values(by='magnitude',ascending=False).head(5)"
   ]
  },
  {
   "cell_type": "code",
   "execution_count": 86,
   "metadata": {},
   "outputs": [],
   "source": [
    "#interestingly the larger the mas vnr area, the lower the price.\n",
    "#houses in the neighbourhood Crawford also has a low price\n",
    "\n",
    "#homeowners can consider renovating to increase living space and decrease the masonary area."
   ]
  },
  {
   "cell_type": "code",
   "execution_count": 87,
   "metadata": {},
   "outputs": [],
   "source": [
    "#basement finish and heating qc are also large factors that decreases the value of the house\n",
    "#if the roof style is gambrel, it also decreases the price of the house"
   ]
  },
  {
   "cell_type": "code",
   "execution_count": 88,
   "metadata": {},
   "outputs": [],
   "source": [
    "#to increase the value of their homes, the easiest things a homeowner can do will be (without having major renovations)\n",
    "#improve their basement finished area\n",
    "#improve heating\n",
    "#improve kitchen quality"
   ]
  },
  {
   "cell_type": "code",
   "execution_count": 89,
   "metadata": {},
   "outputs": [],
   "source": [
    "#lets run a test to see what happens if a homeowner improves their basement finish, heating qc and kitchen quality\n",
    "#what is the improvement on saleprice"
   ]
  },
  {
   "cell_type": "code",
   "execution_count": 91,
   "metadata": {},
   "outputs": [
    {
     "output_type": "execute_result",
     "data": {
      "text/plain": [
       "      MS SubClass  Lot Frontage  Lot Area  Lot Shape  Land Slope  \\\n",
       "700           190          70.0      5600          1           1   \n",
       "114            20           0.0      9000          1           1   \n",
       "1952           30         153.0      4118          2           3   \n",
       "77             30          60.0      6324          2           1   \n",
       "562           190         100.0      9045          1           1   \n",
       "76             30           0.0     17529          1           1   \n",
       "612            50          63.0      4761          1           1   \n",
       "1996           50          60.0     10320          1           1   \n",
       "1862           30          67.0      4853          1           1   \n",
       "183            20          80.0     14584          1           3   \n",
       "\n",
       "      Overall Qual  Overall Cond  Year Built  Year Remod/Add  Mas Vnr Area  \\\n",
       "700              4             5        1930            1950           0.0   \n",
       "114              2             2        1947            1950           0.0   \n",
       "1952             4             4        1941            1950           0.0   \n",
       "77               4             6        1927            1950           0.0   \n",
       "562              5             3        1910            1950           0.0   \n",
       "76               5             5        1924            1950          65.0   \n",
       "612              3             3        1918            1950           0.0   \n",
       "1996             4             5        1924            1950           0.0   \n",
       "1862             5             6        1924            1999         203.0   \n",
       "183              1             5        1952            1952           0.0   \n",
       "\n",
       "      ...  Sale Type_Oth  Sale Type_WD   Roof Matl_Metal  Mas Vnr Type_CBlock  \\\n",
       "700   ...              0              1                0                    0   \n",
       "114   ...              0              1                0                    0   \n",
       "1952  ...              0              1                0                    0   \n",
       "77    ...              0              1                0                    0   \n",
       "562   ...              0              1                0                    0   \n",
       "76    ...              0              1                0                    0   \n",
       "612   ...              0              0                0                    0   \n",
       "1996  ...              0              1                0                    0   \n",
       "1862  ...              0              1                0                    0   \n",
       "183   ...              0              1                0                    0   \n",
       "\n",
       "      Exterior 2nd_Other  Exterior 2nd_PreCast  Sale Type_VWD  Heating_GasA  \\\n",
       "700                    0                     0              0             0   \n",
       "114                    0                     0              0             0   \n",
       "1952                   0                     0              0             0   \n",
       "77                     0                     0              0             0   \n",
       "562                    0                     0              0             0   \n",
       "76                     0                     0              0             0   \n",
       "612                    0                     0              0             0   \n",
       "1996                   0                     0              0             0   \n",
       "1862                   0                     0              0             0   \n",
       "183                    0                     0              0             0   \n",
       "\n",
       "      Exterior 1st_PreCast  Roof Matl_Roll  \n",
       "700                      0               0  \n",
       "114                      0               0  \n",
       "1952                     0               0  \n",
       "77                       0               0  \n",
       "562                      0               0  \n",
       "76                       0               0  \n",
       "612                      0               0  \n",
       "1996                     0               0  \n",
       "1862                     0               0  \n",
       "183                      0               0  \n",
       "\n",
       "[10 rows x 143 columns]"
      ],
      "text/html": "<div>\n<style scoped>\n    .dataframe tbody tr th:only-of-type {\n        vertical-align: middle;\n    }\n\n    .dataframe tbody tr th {\n        vertical-align: top;\n    }\n\n    .dataframe thead th {\n        text-align: right;\n    }\n</style>\n<table border=\"1\" class=\"dataframe\">\n  <thead>\n    <tr style=\"text-align: right;\">\n      <th></th>\n      <th>MS SubClass</th>\n      <th>Lot Frontage</th>\n      <th>Lot Area</th>\n      <th>Lot Shape</th>\n      <th>Land Slope</th>\n      <th>Overall Qual</th>\n      <th>Overall Cond</th>\n      <th>Year Built</th>\n      <th>Year Remod/Add</th>\n      <th>Mas Vnr Area</th>\n      <th>...</th>\n      <th>Sale Type_Oth</th>\n      <th>Sale Type_WD</th>\n      <th>Roof Matl_Metal</th>\n      <th>Mas Vnr Type_CBlock</th>\n      <th>Exterior 2nd_Other</th>\n      <th>Exterior 2nd_PreCast</th>\n      <th>Sale Type_VWD</th>\n      <th>Heating_GasA</th>\n      <th>Exterior 1st_PreCast</th>\n      <th>Roof Matl_Roll</th>\n    </tr>\n  </thead>\n  <tbody>\n    <tr>\n      <th>700</th>\n      <td>190</td>\n      <td>70.0</td>\n      <td>5600</td>\n      <td>1</td>\n      <td>1</td>\n      <td>4</td>\n      <td>5</td>\n      <td>1930</td>\n      <td>1950</td>\n      <td>0.0</td>\n      <td>...</td>\n      <td>0</td>\n      <td>1</td>\n      <td>0</td>\n      <td>0</td>\n      <td>0</td>\n      <td>0</td>\n      <td>0</td>\n      <td>0</td>\n      <td>0</td>\n      <td>0</td>\n    </tr>\n    <tr>\n      <th>114</th>\n      <td>20</td>\n      <td>0.0</td>\n      <td>9000</td>\n      <td>1</td>\n      <td>1</td>\n      <td>2</td>\n      <td>2</td>\n      <td>1947</td>\n      <td>1950</td>\n      <td>0.0</td>\n      <td>...</td>\n      <td>0</td>\n      <td>1</td>\n      <td>0</td>\n      <td>0</td>\n      <td>0</td>\n      <td>0</td>\n      <td>0</td>\n      <td>0</td>\n      <td>0</td>\n      <td>0</td>\n    </tr>\n    <tr>\n      <th>1952</th>\n      <td>30</td>\n      <td>153.0</td>\n      <td>4118</td>\n      <td>2</td>\n      <td>3</td>\n      <td>4</td>\n      <td>4</td>\n      <td>1941</td>\n      <td>1950</td>\n      <td>0.0</td>\n      <td>...</td>\n      <td>0</td>\n      <td>1</td>\n      <td>0</td>\n      <td>0</td>\n      <td>0</td>\n      <td>0</td>\n      <td>0</td>\n      <td>0</td>\n      <td>0</td>\n      <td>0</td>\n    </tr>\n    <tr>\n      <th>77</th>\n      <td>30</td>\n      <td>60.0</td>\n      <td>6324</td>\n      <td>2</td>\n      <td>1</td>\n      <td>4</td>\n      <td>6</td>\n      <td>1927</td>\n      <td>1950</td>\n      <td>0.0</td>\n      <td>...</td>\n      <td>0</td>\n      <td>1</td>\n      <td>0</td>\n      <td>0</td>\n      <td>0</td>\n      <td>0</td>\n      <td>0</td>\n      <td>0</td>\n      <td>0</td>\n      <td>0</td>\n    </tr>\n    <tr>\n      <th>562</th>\n      <td>190</td>\n      <td>100.0</td>\n      <td>9045</td>\n      <td>1</td>\n      <td>1</td>\n      <td>5</td>\n      <td>3</td>\n      <td>1910</td>\n      <td>1950</td>\n      <td>0.0</td>\n      <td>...</td>\n      <td>0</td>\n      <td>1</td>\n      <td>0</td>\n      <td>0</td>\n      <td>0</td>\n      <td>0</td>\n      <td>0</td>\n      <td>0</td>\n      <td>0</td>\n      <td>0</td>\n    </tr>\n    <tr>\n      <th>76</th>\n      <td>30</td>\n      <td>0.0</td>\n      <td>17529</td>\n      <td>1</td>\n      <td>1</td>\n      <td>5</td>\n      <td>5</td>\n      <td>1924</td>\n      <td>1950</td>\n      <td>65.0</td>\n      <td>...</td>\n      <td>0</td>\n      <td>1</td>\n      <td>0</td>\n      <td>0</td>\n      <td>0</td>\n      <td>0</td>\n      <td>0</td>\n      <td>0</td>\n      <td>0</td>\n      <td>0</td>\n    </tr>\n    <tr>\n      <th>612</th>\n      <td>50</td>\n      <td>63.0</td>\n      <td>4761</td>\n      <td>1</td>\n      <td>1</td>\n      <td>3</td>\n      <td>3</td>\n      <td>1918</td>\n      <td>1950</td>\n      <td>0.0</td>\n      <td>...</td>\n      <td>0</td>\n      <td>0</td>\n      <td>0</td>\n      <td>0</td>\n      <td>0</td>\n      <td>0</td>\n      <td>0</td>\n      <td>0</td>\n      <td>0</td>\n      <td>0</td>\n    </tr>\n    <tr>\n      <th>1996</th>\n      <td>50</td>\n      <td>60.0</td>\n      <td>10320</td>\n      <td>1</td>\n      <td>1</td>\n      <td>4</td>\n      <td>5</td>\n      <td>1924</td>\n      <td>1950</td>\n      <td>0.0</td>\n      <td>...</td>\n      <td>0</td>\n      <td>1</td>\n      <td>0</td>\n      <td>0</td>\n      <td>0</td>\n      <td>0</td>\n      <td>0</td>\n      <td>0</td>\n      <td>0</td>\n      <td>0</td>\n    </tr>\n    <tr>\n      <th>1862</th>\n      <td>30</td>\n      <td>67.0</td>\n      <td>4853</td>\n      <td>1</td>\n      <td>1</td>\n      <td>5</td>\n      <td>6</td>\n      <td>1924</td>\n      <td>1999</td>\n      <td>203.0</td>\n      <td>...</td>\n      <td>0</td>\n      <td>1</td>\n      <td>0</td>\n      <td>0</td>\n      <td>0</td>\n      <td>0</td>\n      <td>0</td>\n      <td>0</td>\n      <td>0</td>\n      <td>0</td>\n    </tr>\n    <tr>\n      <th>183</th>\n      <td>20</td>\n      <td>80.0</td>\n      <td>14584</td>\n      <td>1</td>\n      <td>3</td>\n      <td>1</td>\n      <td>5</td>\n      <td>1952</td>\n      <td>1952</td>\n      <td>0.0</td>\n      <td>...</td>\n      <td>0</td>\n      <td>1</td>\n      <td>0</td>\n      <td>0</td>\n      <td>0</td>\n      <td>0</td>\n      <td>0</td>\n      <td>0</td>\n      <td>0</td>\n      <td>0</td>\n    </tr>\n  </tbody>\n</table>\n<p>10 rows × 143 columns</p>\n</div>"
     },
     "metadata": {},
     "execution_count": 91
    }
   ],
   "source": [
    "#lets get some houses which have lousy heating qc, bsmtfin type 1 and kitchen qual randomly\n",
    "improvements = train[(train['Heating QC']>=4)&(train['BsmtFin Type 1']>=4)&(train['Kitchen Qual']>=4)].sample(10)"
   ]
  },
  {
   "cell_type": "code",
   "execution_count": 93,
   "metadata": {},
   "outputs": [
    {
     "output_type": "execute_result",
     "data": {
      "text/plain": [
       "      Heating QC  BsmtFin Type 1  Kitchen Qual  SalePrice\n",
       "700            4               7             4      55000\n",
       "114            4               7             4      63900\n",
       "1952           4               6             4      52500\n",
       "77             4               6             4      68500\n",
       "562            4               6             4      76500\n",
       "76             4               6             4     105000\n",
       "612            4               6             4      64500\n",
       "1996           5               6             4     107000\n",
       "1862           4               4             4     104000\n",
       "183            5               7             4      13100"
      ],
      "text/html": "<div>\n<style scoped>\n    .dataframe tbody tr th:only-of-type {\n        vertical-align: middle;\n    }\n\n    .dataframe tbody tr th {\n        vertical-align: top;\n    }\n\n    .dataframe thead th {\n        text-align: right;\n    }\n</style>\n<table border=\"1\" class=\"dataframe\">\n  <thead>\n    <tr style=\"text-align: right;\">\n      <th></th>\n      <th>Heating QC</th>\n      <th>BsmtFin Type 1</th>\n      <th>Kitchen Qual</th>\n      <th>SalePrice</th>\n    </tr>\n  </thead>\n  <tbody>\n    <tr>\n      <th>700</th>\n      <td>4</td>\n      <td>7</td>\n      <td>4</td>\n      <td>55000</td>\n    </tr>\n    <tr>\n      <th>114</th>\n      <td>4</td>\n      <td>7</td>\n      <td>4</td>\n      <td>63900</td>\n    </tr>\n    <tr>\n      <th>1952</th>\n      <td>4</td>\n      <td>6</td>\n      <td>4</td>\n      <td>52500</td>\n    </tr>\n    <tr>\n      <th>77</th>\n      <td>4</td>\n      <td>6</td>\n      <td>4</td>\n      <td>68500</td>\n    </tr>\n    <tr>\n      <th>562</th>\n      <td>4</td>\n      <td>6</td>\n      <td>4</td>\n      <td>76500</td>\n    </tr>\n    <tr>\n      <th>76</th>\n      <td>4</td>\n      <td>6</td>\n      <td>4</td>\n      <td>105000</td>\n    </tr>\n    <tr>\n      <th>612</th>\n      <td>4</td>\n      <td>6</td>\n      <td>4</td>\n      <td>64500</td>\n    </tr>\n    <tr>\n      <th>1996</th>\n      <td>5</td>\n      <td>6</td>\n      <td>4</td>\n      <td>107000</td>\n    </tr>\n    <tr>\n      <th>1862</th>\n      <td>4</td>\n      <td>4</td>\n      <td>4</td>\n      <td>104000</td>\n    </tr>\n    <tr>\n      <th>183</th>\n      <td>5</td>\n      <td>7</td>\n      <td>4</td>\n      <td>13100</td>\n    </tr>\n  </tbody>\n</table>\n</div>"
     },
     "metadata": {},
     "execution_count": 93
    }
   ],
   "source": [
    "improv_pred = pd.DataFrame({\n",
    "'Heating QC':improvements['Heating QC'],\n",
    "'BsmtFin Type 1':improvements['BsmtFin Type 1'],\n",
    "'Kitchen Qual':improvements['Kitchen Qual'],\n",
    "'SalePrice':improvements['SalePrice']})\n",
    "\n",
    "improv_pred"
   ]
  },
  {
   "cell_type": "code",
   "execution_count": 94,
   "metadata": {},
   "outputs": [],
   "source": [
    "#Let's use our model to predict the SalePrice for these homes\n",
    "X_i = improvements.drop('SalePrice',axis=1)\n",
    "y_i = improvements['SalePrice']\n",
    "\n",
    "poly_convert = PolynomialFeatures(include_bias=False)\n",
    "poly_convert.fit(X_i)\n",
    "X_poly_i = poly_convert.transform(X_i)\n",
    "\n",
    "y_pred_i = model.predict(X_poly_i)"
   ]
  },
  {
   "cell_type": "code",
   "execution_count": 97,
   "metadata": {},
   "outputs": [
    {
     "output_type": "execute_result",
     "data": {
      "text/plain": [
       "      Heating QC  BsmtFin Type 1  Kitchen Qual  SalePrice  Pred SalePrice\n",
       "700            4               7             4      55000    62014.134560\n",
       "114            4               7             4      63900    57508.708919\n",
       "1952           4               6             4      52500    63723.484605\n",
       "77             4               6             4      68500    77337.991058\n",
       "562            4               6             4      76500    86318.653448\n",
       "76             4               6             4     105000    85125.922733\n",
       "612            4               6             4      64500    60191.859798\n",
       "1996           5               6             4     107000   102481.659164\n",
       "1862           4               4             4     104000   118104.315809\n",
       "183            5               7             4      13100    20141.415532"
      ],
      "text/html": "<div>\n<style scoped>\n    .dataframe tbody tr th:only-of-type {\n        vertical-align: middle;\n    }\n\n    .dataframe tbody tr th {\n        vertical-align: top;\n    }\n\n    .dataframe thead th {\n        text-align: right;\n    }\n</style>\n<table border=\"1\" class=\"dataframe\">\n  <thead>\n    <tr style=\"text-align: right;\">\n      <th></th>\n      <th>Heating QC</th>\n      <th>BsmtFin Type 1</th>\n      <th>Kitchen Qual</th>\n      <th>SalePrice</th>\n      <th>Pred SalePrice</th>\n    </tr>\n  </thead>\n  <tbody>\n    <tr>\n      <th>700</th>\n      <td>4</td>\n      <td>7</td>\n      <td>4</td>\n      <td>55000</td>\n      <td>62014.134560</td>\n    </tr>\n    <tr>\n      <th>114</th>\n      <td>4</td>\n      <td>7</td>\n      <td>4</td>\n      <td>63900</td>\n      <td>57508.708919</td>\n    </tr>\n    <tr>\n      <th>1952</th>\n      <td>4</td>\n      <td>6</td>\n      <td>4</td>\n      <td>52500</td>\n      <td>63723.484605</td>\n    </tr>\n    <tr>\n      <th>77</th>\n      <td>4</td>\n      <td>6</td>\n      <td>4</td>\n      <td>68500</td>\n      <td>77337.991058</td>\n    </tr>\n    <tr>\n      <th>562</th>\n      <td>4</td>\n      <td>6</td>\n      <td>4</td>\n      <td>76500</td>\n      <td>86318.653448</td>\n    </tr>\n    <tr>\n      <th>76</th>\n      <td>4</td>\n      <td>6</td>\n      <td>4</td>\n      <td>105000</td>\n      <td>85125.922733</td>\n    </tr>\n    <tr>\n      <th>612</th>\n      <td>4</td>\n      <td>6</td>\n      <td>4</td>\n      <td>64500</td>\n      <td>60191.859798</td>\n    </tr>\n    <tr>\n      <th>1996</th>\n      <td>5</td>\n      <td>6</td>\n      <td>4</td>\n      <td>107000</td>\n      <td>102481.659164</td>\n    </tr>\n    <tr>\n      <th>1862</th>\n      <td>4</td>\n      <td>4</td>\n      <td>4</td>\n      <td>104000</td>\n      <td>118104.315809</td>\n    </tr>\n    <tr>\n      <th>183</th>\n      <td>5</td>\n      <td>7</td>\n      <td>4</td>\n      <td>13100</td>\n      <td>20141.415532</td>\n    </tr>\n  </tbody>\n</table>\n</div>"
     },
     "metadata": {},
     "execution_count": 97
    }
   ],
   "source": [
    "improv_pred['Pred SalePrice'] = np.exp(y_pred_i)\n",
    "improv_pred\n",
    "#predicted sale price and actual sale price are not too far off"
   ]
  },
  {
   "cell_type": "code",
   "execution_count": 98,
   "metadata": {},
   "outputs": [],
   "source": [
    "#Assuming homeowner improves their basement finish, heating qc and kitchen quality\n",
    "improvements['Heating QC'] = 1 \n",
    "improvements['BsmtFin Type 1'] = 1\n",
    "improvements['Kitchen Qual'] = 1\n"
   ]
  },
  {
   "cell_type": "code",
   "execution_count": 99,
   "metadata": {},
   "outputs": [],
   "source": [
    "#Let's use our model to predict the SalePrice for these homes which have made these improvements\n",
    "X_i = improvements.drop('SalePrice',axis=1)\n",
    "y_i = improvements['SalePrice']\n",
    "\n",
    "X_poly_i = poly_convert.transform(X_i)\n",
    "\n",
    "y_pred_i = model.predict(X_poly_i)"
   ]
  },
  {
   "cell_type": "code",
   "execution_count": 100,
   "metadata": {},
   "outputs": [
    {
     "output_type": "execute_result",
     "data": {
      "text/plain": [
       "      Heating QC  BsmtFin Type 1  Kitchen Qual  SalePrice  Pred SalePrice  \\\n",
       "700            4               7             4      55000    62014.134560   \n",
       "114            4               7             4      63900    57508.708919   \n",
       "1952           4               6             4      52500    63723.484605   \n",
       "77             4               6             4      68500    77337.991058   \n",
       "562            4               6             4      76500    86318.653448   \n",
       "76             4               6             4     105000    85125.922733   \n",
       "612            4               6             4      64500    60191.859798   \n",
       "1996           5               6             4     107000   102481.659164   \n",
       "1862           4               4             4     104000   118104.315809   \n",
       "183            5               7             4      13100    20141.415532   \n",
       "\n",
       "      NEW Pred SalePrice  percent increase  \n",
       "700         77353.861802         24.735856  \n",
       "114         71590.227885         24.485890  \n",
       "1952        78142.373965         22.627277  \n",
       "77          91471.097113         18.274468  \n",
       "562        105850.214246         22.627277  \n",
       "76         104456.614015         22.708349  \n",
       "612         73470.710739         22.060875  \n",
       "1996       123931.411551         20.930333  \n",
       "1862       135419.306729         14.660761  \n",
       "183         26161.662094         29.889888  "
      ],
      "text/html": "<div>\n<style scoped>\n    .dataframe tbody tr th:only-of-type {\n        vertical-align: middle;\n    }\n\n    .dataframe tbody tr th {\n        vertical-align: top;\n    }\n\n    .dataframe thead th {\n        text-align: right;\n    }\n</style>\n<table border=\"1\" class=\"dataframe\">\n  <thead>\n    <tr style=\"text-align: right;\">\n      <th></th>\n      <th>Heating QC</th>\n      <th>BsmtFin Type 1</th>\n      <th>Kitchen Qual</th>\n      <th>SalePrice</th>\n      <th>Pred SalePrice</th>\n      <th>NEW Pred SalePrice</th>\n      <th>percent increase</th>\n    </tr>\n  </thead>\n  <tbody>\n    <tr>\n      <th>700</th>\n      <td>4</td>\n      <td>7</td>\n      <td>4</td>\n      <td>55000</td>\n      <td>62014.134560</td>\n      <td>77353.861802</td>\n      <td>24.735856</td>\n    </tr>\n    <tr>\n      <th>114</th>\n      <td>4</td>\n      <td>7</td>\n      <td>4</td>\n      <td>63900</td>\n      <td>57508.708919</td>\n      <td>71590.227885</td>\n      <td>24.485890</td>\n    </tr>\n    <tr>\n      <th>1952</th>\n      <td>4</td>\n      <td>6</td>\n      <td>4</td>\n      <td>52500</td>\n      <td>63723.484605</td>\n      <td>78142.373965</td>\n      <td>22.627277</td>\n    </tr>\n    <tr>\n      <th>77</th>\n      <td>4</td>\n      <td>6</td>\n      <td>4</td>\n      <td>68500</td>\n      <td>77337.991058</td>\n      <td>91471.097113</td>\n      <td>18.274468</td>\n    </tr>\n    <tr>\n      <th>562</th>\n      <td>4</td>\n      <td>6</td>\n      <td>4</td>\n      <td>76500</td>\n      <td>86318.653448</td>\n      <td>105850.214246</td>\n      <td>22.627277</td>\n    </tr>\n    <tr>\n      <th>76</th>\n      <td>4</td>\n      <td>6</td>\n      <td>4</td>\n      <td>105000</td>\n      <td>85125.922733</td>\n      <td>104456.614015</td>\n      <td>22.708349</td>\n    </tr>\n    <tr>\n      <th>612</th>\n      <td>4</td>\n      <td>6</td>\n      <td>4</td>\n      <td>64500</td>\n      <td>60191.859798</td>\n      <td>73470.710739</td>\n      <td>22.060875</td>\n    </tr>\n    <tr>\n      <th>1996</th>\n      <td>5</td>\n      <td>6</td>\n      <td>4</td>\n      <td>107000</td>\n      <td>102481.659164</td>\n      <td>123931.411551</td>\n      <td>20.930333</td>\n    </tr>\n    <tr>\n      <th>1862</th>\n      <td>4</td>\n      <td>4</td>\n      <td>4</td>\n      <td>104000</td>\n      <td>118104.315809</td>\n      <td>135419.306729</td>\n      <td>14.660761</td>\n    </tr>\n    <tr>\n      <th>183</th>\n      <td>5</td>\n      <td>7</td>\n      <td>4</td>\n      <td>13100</td>\n      <td>20141.415532</td>\n      <td>26161.662094</td>\n      <td>29.889888</td>\n    </tr>\n  </tbody>\n</table>\n</div>"
     },
     "metadata": {},
     "execution_count": 100
    }
   ],
   "source": [
    "#comprare predicted sale price improvements\n",
    "improv_pred['NEW Pred SalePrice'] = np.exp(y_pred_i)\n",
    "improv_pred['percent increase'] = 100*((improv_pred['NEW Pred SalePrice'] - improv_pred['Pred SalePrice'])/improv_pred['Pred SalePrice'])\n",
    "\n",
    "improv_pred"
   ]
  },
  {
   "cell_type": "code",
   "execution_count": null,
   "metadata": {},
   "outputs": [],
   "source": [
    "#huge increase in home values"
   ]
  },
  {
   "cell_type": "code",
   "execution_count": 130,
   "metadata": {},
   "outputs": [
    {
     "output_type": "execute_result",
     "data": {
      "text/plain": [
       "(2051, 143)"
      ]
     },
     "metadata": {},
     "execution_count": 130
    }
   ],
   "source": [
    "train.shape"
   ]
  },
  {
   "cell_type": "code",
   "execution_count": 131,
   "metadata": {},
   "outputs": [],
   "source": [
    "org = pd.read_csv('datasets/train.csv')"
   ]
  },
  {
   "cell_type": "code",
   "execution_count": 132,
   "metadata": {},
   "outputs": [
    {
     "output_type": "execute_result",
     "data": {
      "text/plain": [
       "(2051, 81)"
      ]
     },
     "metadata": {},
     "execution_count": 132
    }
   ],
   "source": [
    "org.shape"
   ]
  },
  {
   "cell_type": "code",
   "execution_count": null,
   "metadata": {},
   "outputs": [],
   "source": []
  }
 ]
}