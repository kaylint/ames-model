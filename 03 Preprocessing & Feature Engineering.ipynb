{
 "cells": [
  {
   "cell_type": "code",
   "execution_count": 156,
   "metadata": {},
   "outputs": [],
   "source": [
    "import numpy as np\n",
    "import pandas as pd\n",
    "import matplotlib.pyplot as plt\n",
    "import seaborn as sns"
   ]
  },
  {
   "cell_type": "code",
   "execution_count": 157,
   "metadata": {},
   "outputs": [],
   "source": [
    "#import and check data"
   ]
  },
  {
   "cell_type": "code",
   "execution_count": 158,
   "metadata": {},
   "outputs": [],
   "source": [
    "data = pd.read_csv('datasets/train_with_dummies.csv')\n",
    "test = pd.read_csv('datasets/test_with_dummies.csv')"
   ]
  },
  {
   "cell_type": "code",
   "execution_count": 159,
   "metadata": {
    "scrolled": true
   },
   "outputs": [
    {
     "output_type": "execute_result",
     "data": {
      "text/plain": [
       "   MS SubClass  Lot Frontage  Lot Area  Lot Shape  Utilities  Land Slope  \\\n",
       "0           60           0.0     13517          2          1           1   \n",
       "1           60          43.0     11492          2          1           1   \n",
       "2           20          68.0      7922          1          1           1   \n",
       "3           60          73.0      9802          1          1           1   \n",
       "4           50          82.0     14235          2          1           1   \n",
       "\n",
       "   Overall Qual  Overall Cond  Year Built  Year Remod/Add  ...  Sale Type_Oth  \\\n",
       "0             6             8        1976            2005  ...              0   \n",
       "1             7             5        1996            1997  ...              0   \n",
       "2             5             7        1953            2007  ...              0   \n",
       "3             5             5        2006            2007  ...              0   \n",
       "4             6             8        1900            1993  ...              0   \n",
       "\n",
       "   Sale Type_WD   Mas Vnr Type_CBlock  Exterior 1st_PreCast  Heating_GasA  \\\n",
       "0              1                    0                     0             0   \n",
       "1              1                    0                     0             0   \n",
       "2              1                    0                     0             0   \n",
       "3              1                    0                     0             0   \n",
       "4              1                    0                     0             0   \n",
       "\n",
       "   Exterior 2nd_PreCast  Roof Matl_Roll  Sale Type_VWD  Exterior 2nd_Other  \\\n",
       "0                     0               0              0                   0   \n",
       "1                     0               0              0                   0   \n",
       "2                     0               0              0                   0   \n",
       "3                     0               0              0                   0   \n",
       "4                     0               0              0                   0   \n",
       "\n",
       "   Roof Matl_Metal  \n",
       "0                0  \n",
       "1                0  \n",
       "2                0  \n",
       "3                0  \n",
       "4                0  \n",
       "\n",
       "[5 rows x 199 columns]"
      ],
      "text/html": "<div>\n<style scoped>\n    .dataframe tbody tr th:only-of-type {\n        vertical-align: middle;\n    }\n\n    .dataframe tbody tr th {\n        vertical-align: top;\n    }\n\n    .dataframe thead th {\n        text-align: right;\n    }\n</style>\n<table border=\"1\" class=\"dataframe\">\n  <thead>\n    <tr style=\"text-align: right;\">\n      <th></th>\n      <th>MS SubClass</th>\n      <th>Lot Frontage</th>\n      <th>Lot Area</th>\n      <th>Lot Shape</th>\n      <th>Utilities</th>\n      <th>Land Slope</th>\n      <th>Overall Qual</th>\n      <th>Overall Cond</th>\n      <th>Year Built</th>\n      <th>Year Remod/Add</th>\n      <th>...</th>\n      <th>Sale Type_Oth</th>\n      <th>Sale Type_WD</th>\n      <th>Mas Vnr Type_CBlock</th>\n      <th>Exterior 1st_PreCast</th>\n      <th>Heating_GasA</th>\n      <th>Exterior 2nd_PreCast</th>\n      <th>Roof Matl_Roll</th>\n      <th>Sale Type_VWD</th>\n      <th>Exterior 2nd_Other</th>\n      <th>Roof Matl_Metal</th>\n    </tr>\n  </thead>\n  <tbody>\n    <tr>\n      <th>0</th>\n      <td>60</td>\n      <td>0.0</td>\n      <td>13517</td>\n      <td>2</td>\n      <td>1</td>\n      <td>1</td>\n      <td>6</td>\n      <td>8</td>\n      <td>1976</td>\n      <td>2005</td>\n      <td>...</td>\n      <td>0</td>\n      <td>1</td>\n      <td>0</td>\n      <td>0</td>\n      <td>0</td>\n      <td>0</td>\n      <td>0</td>\n      <td>0</td>\n      <td>0</td>\n      <td>0</td>\n    </tr>\n    <tr>\n      <th>1</th>\n      <td>60</td>\n      <td>43.0</td>\n      <td>11492</td>\n      <td>2</td>\n      <td>1</td>\n      <td>1</td>\n      <td>7</td>\n      <td>5</td>\n      <td>1996</td>\n      <td>1997</td>\n      <td>...</td>\n      <td>0</td>\n      <td>1</td>\n      <td>0</td>\n      <td>0</td>\n      <td>0</td>\n      <td>0</td>\n      <td>0</td>\n      <td>0</td>\n      <td>0</td>\n      <td>0</td>\n    </tr>\n    <tr>\n      <th>2</th>\n      <td>20</td>\n      <td>68.0</td>\n      <td>7922</td>\n      <td>1</td>\n      <td>1</td>\n      <td>1</td>\n      <td>5</td>\n      <td>7</td>\n      <td>1953</td>\n      <td>2007</td>\n      <td>...</td>\n      <td>0</td>\n      <td>1</td>\n      <td>0</td>\n      <td>0</td>\n      <td>0</td>\n      <td>0</td>\n      <td>0</td>\n      <td>0</td>\n      <td>0</td>\n      <td>0</td>\n    </tr>\n    <tr>\n      <th>3</th>\n      <td>60</td>\n      <td>73.0</td>\n      <td>9802</td>\n      <td>1</td>\n      <td>1</td>\n      <td>1</td>\n      <td>5</td>\n      <td>5</td>\n      <td>2006</td>\n      <td>2007</td>\n      <td>...</td>\n      <td>0</td>\n      <td>1</td>\n      <td>0</td>\n      <td>0</td>\n      <td>0</td>\n      <td>0</td>\n      <td>0</td>\n      <td>0</td>\n      <td>0</td>\n      <td>0</td>\n    </tr>\n    <tr>\n      <th>4</th>\n      <td>50</td>\n      <td>82.0</td>\n      <td>14235</td>\n      <td>2</td>\n      <td>1</td>\n      <td>1</td>\n      <td>6</td>\n      <td>8</td>\n      <td>1900</td>\n      <td>1993</td>\n      <td>...</td>\n      <td>0</td>\n      <td>1</td>\n      <td>0</td>\n      <td>0</td>\n      <td>0</td>\n      <td>0</td>\n      <td>0</td>\n      <td>0</td>\n      <td>0</td>\n      <td>0</td>\n    </tr>\n  </tbody>\n</table>\n<p>5 rows × 199 columns</p>\n</div>"
     },
     "metadata": {},
     "execution_count": 159
    }
   ],
   "source": [
    "data.head()"
   ]
  },
  {
   "cell_type": "code",
   "execution_count": 160,
   "metadata": {},
   "outputs": [
    {
     "output_type": "execute_result",
     "data": {
      "text/plain": [
       "     Id  MS SubClass  Lot Frontage  Lot Area  Lot Shape  Utilities  \\\n",
       "0  2658          190          69.0      9142          1          1   \n",
       "1  2718           90           0.0      9662          2          1   \n",
       "2  2414           60          58.0     17104          2          1   \n",
       "3  1989           30          60.0      8520          1          1   \n",
       "4   625           20           0.0      9500          2          1   \n",
       "\n",
       "   Land Slope  Overall Qual  Overall Cond  Year Built  ...  Sale Type_Oth  \\\n",
       "0           1             6             8        1910  ...              0   \n",
       "1           1             5             4        1977  ...              0   \n",
       "2           1             7             5        2006  ...              0   \n",
       "3           1             5             6        1923  ...              0   \n",
       "4           1             6             5        1963  ...              0   \n",
       "\n",
       "   Sale Type_WD   Mas Vnr Type_CBlock  Exterior 1st_PreCast  Heating_GasA  \\\n",
       "0              1                    0                     0             1   \n",
       "1              1                    0                     0             1   \n",
       "2              0                    0                     0             1   \n",
       "3              1                    0                     0             1   \n",
       "4              1                    0                     0             1   \n",
       "\n",
       "   Exterior 2nd_PreCast  Roof Matl_Roll  Sale Type_VWD  Exterior 2nd_Other  \\\n",
       "0                     0               0              0                   0   \n",
       "1                     0               0              0                   0   \n",
       "2                     0               0              0                   0   \n",
       "3                     0               0              0                   0   \n",
       "4                     0               0              0                   0   \n",
       "\n",
       "   Roof Matl_Metal  \n",
       "0                0  \n",
       "1                0  \n",
       "2                0  \n",
       "3                0  \n",
       "4                0  \n",
       "\n",
       "[5 rows x 199 columns]"
      ],
      "text/html": "<div>\n<style scoped>\n    .dataframe tbody tr th:only-of-type {\n        vertical-align: middle;\n    }\n\n    .dataframe tbody tr th {\n        vertical-align: top;\n    }\n\n    .dataframe thead th {\n        text-align: right;\n    }\n</style>\n<table border=\"1\" class=\"dataframe\">\n  <thead>\n    <tr style=\"text-align: right;\">\n      <th></th>\n      <th>Id</th>\n      <th>MS SubClass</th>\n      <th>Lot Frontage</th>\n      <th>Lot Area</th>\n      <th>Lot Shape</th>\n      <th>Utilities</th>\n      <th>Land Slope</th>\n      <th>Overall Qual</th>\n      <th>Overall Cond</th>\n      <th>Year Built</th>\n      <th>...</th>\n      <th>Sale Type_Oth</th>\n      <th>Sale Type_WD</th>\n      <th>Mas Vnr Type_CBlock</th>\n      <th>Exterior 1st_PreCast</th>\n      <th>Heating_GasA</th>\n      <th>Exterior 2nd_PreCast</th>\n      <th>Roof Matl_Roll</th>\n      <th>Sale Type_VWD</th>\n      <th>Exterior 2nd_Other</th>\n      <th>Roof Matl_Metal</th>\n    </tr>\n  </thead>\n  <tbody>\n    <tr>\n      <th>0</th>\n      <td>2658</td>\n      <td>190</td>\n      <td>69.0</td>\n      <td>9142</td>\n      <td>1</td>\n      <td>1</td>\n      <td>1</td>\n      <td>6</td>\n      <td>8</td>\n      <td>1910</td>\n      <td>...</td>\n      <td>0</td>\n      <td>1</td>\n      <td>0</td>\n      <td>0</td>\n      <td>1</td>\n      <td>0</td>\n      <td>0</td>\n      <td>0</td>\n      <td>0</td>\n      <td>0</td>\n    </tr>\n    <tr>\n      <th>1</th>\n      <td>2718</td>\n      <td>90</td>\n      <td>0.0</td>\n      <td>9662</td>\n      <td>2</td>\n      <td>1</td>\n      <td>1</td>\n      <td>5</td>\n      <td>4</td>\n      <td>1977</td>\n      <td>...</td>\n      <td>0</td>\n      <td>1</td>\n      <td>0</td>\n      <td>0</td>\n      <td>1</td>\n      <td>0</td>\n      <td>0</td>\n      <td>0</td>\n      <td>0</td>\n      <td>0</td>\n    </tr>\n    <tr>\n      <th>2</th>\n      <td>2414</td>\n      <td>60</td>\n      <td>58.0</td>\n      <td>17104</td>\n      <td>2</td>\n      <td>1</td>\n      <td>1</td>\n      <td>7</td>\n      <td>5</td>\n      <td>2006</td>\n      <td>...</td>\n      <td>0</td>\n      <td>0</td>\n      <td>0</td>\n      <td>0</td>\n      <td>1</td>\n      <td>0</td>\n      <td>0</td>\n      <td>0</td>\n      <td>0</td>\n      <td>0</td>\n    </tr>\n    <tr>\n      <th>3</th>\n      <td>1989</td>\n      <td>30</td>\n      <td>60.0</td>\n      <td>8520</td>\n      <td>1</td>\n      <td>1</td>\n      <td>1</td>\n      <td>5</td>\n      <td>6</td>\n      <td>1923</td>\n      <td>...</td>\n      <td>0</td>\n      <td>1</td>\n      <td>0</td>\n      <td>0</td>\n      <td>1</td>\n      <td>0</td>\n      <td>0</td>\n      <td>0</td>\n      <td>0</td>\n      <td>0</td>\n    </tr>\n    <tr>\n      <th>4</th>\n      <td>625</td>\n      <td>20</td>\n      <td>0.0</td>\n      <td>9500</td>\n      <td>2</td>\n      <td>1</td>\n      <td>1</td>\n      <td>6</td>\n      <td>5</td>\n      <td>1963</td>\n      <td>...</td>\n      <td>0</td>\n      <td>1</td>\n      <td>0</td>\n      <td>0</td>\n      <td>1</td>\n      <td>0</td>\n      <td>0</td>\n      <td>0</td>\n      <td>0</td>\n      <td>0</td>\n    </tr>\n  </tbody>\n</table>\n<p>5 rows × 199 columns</p>\n</div>"
     },
     "metadata": {},
     "execution_count": 160
    }
   ],
   "source": [
    "test.head()"
   ]
  },
  {
   "cell_type": "code",
   "execution_count": 161,
   "metadata": {},
   "outputs": [
    {
     "output_type": "execute_result",
     "data": {
      "text/plain": [
       "1628     12789\n",
       "183      13100\n",
       "1309     34900\n",
       "1292     35000\n",
       "1518     35311\n",
       "         ...  \n",
       "151     556581\n",
       "1796    582933\n",
       "1692    584500\n",
       "1964    591587\n",
       "1671    611657\n",
       "Name: SalePrice, Length: 2051, dtype: int64"
      ]
     },
     "metadata": {},
     "execution_count": 161
    }
   ],
   "source": [
    "data['SalePrice'].sort_values()"
   ]
  },
  {
   "cell_type": "code",
   "execution_count": 162,
   "metadata": {},
   "outputs": [
    {
     "output_type": "execute_result",
     "data": {
      "text/plain": [
       "MS SubClass            -0.087335\n",
       "Lot Frontage            0.181456\n",
       "Lot Area                0.296566\n",
       "Lot Shape               0.294542\n",
       "Utilities              -0.026404\n",
       "                          ...   \n",
       "Exterior 2nd_PreCast         NaN\n",
       "Roof Matl_Roll               NaN\n",
       "Sale Type_VWD                NaN\n",
       "Exterior 2nd_Other           NaN\n",
       "Roof Matl_Metal              NaN\n",
       "Name: SalePrice, Length: 199, dtype: float64"
      ]
     },
     "metadata": {},
     "execution_count": 162
    }
   ],
   "source": [
    "# REMOVE FEATURES WHICH HAVE VERY LOW CORRELATION\n",
    "data.corr()['SalePrice']"
   ]
  },
  {
   "cell_type": "code",
   "execution_count": 163,
   "metadata": {},
   "outputs": [
    {
     "output_type": "execute_result",
     "data": {
      "text/plain": [
       "                      SalePrice\n",
       "Utilities             -0.026404\n",
       "BsmtFin Type 2        -0.014070\n",
       "BsmtFin SF 2           0.016432\n",
       "Pool Area              0.023106\n",
       "Misc Val              -0.007375\n",
       "Yr Sold               -0.015203\n",
       "Alley_Pave            -0.014528\n",
       "Lot Config_FR2        -0.014823\n",
       "Lot Config_FR3         0.014352\n",
       "Neighborhood_Blueste  -0.025226\n",
       "Neighborhood_Gilbert   0.023974\n",
       "Neighborhood_Greens    0.003476\n",
       "Neighborhood_Landmrk  -0.012395\n",
       "Neighborhood_SawyerW   0.016708\n",
       "Condition 1_RRAn      -0.014954\n",
       "Condition 1_RRNe      -0.025045\n",
       "Condition 1_RRNn       0.011442\n",
       "Condition 2_Norm      -0.009759\n",
       "Condition 2_RRAe       0.002378\n",
       "Condition 2_RRAn      -0.012421\n",
       "House Style_1Story    -0.021652\n",
       "House Style_2.5Unf     0.010793\n",
       "Roof Style_Mansard    -0.021289\n",
       "Roof Style_Shed        0.013136\n",
       "Roof Matl_Membran      0.016732\n",
       "Roof Matl_Tar&Grv      0.007018\n",
       "Exterior 1st_AsphShn  -0.027621\n",
       "Exterior 1st_BrkComm  -0.024377\n",
       "Exterior 1st_BrkFace   0.026240\n",
       "Exterior 1st_ImStucc   0.022446\n",
       "Exterior 2nd_AsphShn  -0.023834\n",
       "Exterior 2nd_BrkFace   0.010688\n",
       "Exterior 2nd_Stone    -0.024642\n",
       "Foundation_Stone      -0.023853\n",
       "Foundation_Wood       -0.003044\n",
       "Heating_OthW          -0.021969\n",
       "Sale Type_CWD          0.004563\n",
       "Sale Type_ConLI        0.019588"
      ],
      "text/html": "<div>\n<style scoped>\n    .dataframe tbody tr th:only-of-type {\n        vertical-align: middle;\n    }\n\n    .dataframe tbody tr th {\n        vertical-align: top;\n    }\n\n    .dataframe thead th {\n        text-align: right;\n    }\n</style>\n<table border=\"1\" class=\"dataframe\">\n  <thead>\n    <tr style=\"text-align: right;\">\n      <th></th>\n      <th>SalePrice</th>\n    </tr>\n  </thead>\n  <tbody>\n    <tr>\n      <th>Utilities</th>\n      <td>-0.026404</td>\n    </tr>\n    <tr>\n      <th>BsmtFin Type 2</th>\n      <td>-0.014070</td>\n    </tr>\n    <tr>\n      <th>BsmtFin SF 2</th>\n      <td>0.016432</td>\n    </tr>\n    <tr>\n      <th>Pool Area</th>\n      <td>0.023106</td>\n    </tr>\n    <tr>\n      <th>Misc Val</th>\n      <td>-0.007375</td>\n    </tr>\n    <tr>\n      <th>Yr Sold</th>\n      <td>-0.015203</td>\n    </tr>\n    <tr>\n      <th>Alley_Pave</th>\n      <td>-0.014528</td>\n    </tr>\n    <tr>\n      <th>Lot Config_FR2</th>\n      <td>-0.014823</td>\n    </tr>\n    <tr>\n      <th>Lot Config_FR3</th>\n      <td>0.014352</td>\n    </tr>\n    <tr>\n      <th>Neighborhood_Blueste</th>\n      <td>-0.025226</td>\n    </tr>\n    <tr>\n      <th>Neighborhood_Gilbert</th>\n      <td>0.023974</td>\n    </tr>\n    <tr>\n      <th>Neighborhood_Greens</th>\n      <td>0.003476</td>\n    </tr>\n    <tr>\n      <th>Neighborhood_Landmrk</th>\n      <td>-0.012395</td>\n    </tr>\n    <tr>\n      <th>Neighborhood_SawyerW</th>\n      <td>0.016708</td>\n    </tr>\n    <tr>\n      <th>Condition 1_RRAn</th>\n      <td>-0.014954</td>\n    </tr>\n    <tr>\n      <th>Condition 1_RRNe</th>\n      <td>-0.025045</td>\n    </tr>\n    <tr>\n      <th>Condition 1_RRNn</th>\n      <td>0.011442</td>\n    </tr>\n    <tr>\n      <th>Condition 2_Norm</th>\n      <td>-0.009759</td>\n    </tr>\n    <tr>\n      <th>Condition 2_RRAe</th>\n      <td>0.002378</td>\n    </tr>\n    <tr>\n      <th>Condition 2_RRAn</th>\n      <td>-0.012421</td>\n    </tr>\n    <tr>\n      <th>House Style_1Story</th>\n      <td>-0.021652</td>\n    </tr>\n    <tr>\n      <th>House Style_2.5Unf</th>\n      <td>0.010793</td>\n    </tr>\n    <tr>\n      <th>Roof Style_Mansard</th>\n      <td>-0.021289</td>\n    </tr>\n    <tr>\n      <th>Roof Style_Shed</th>\n      <td>0.013136</td>\n    </tr>\n    <tr>\n      <th>Roof Matl_Membran</th>\n      <td>0.016732</td>\n    </tr>\n    <tr>\n      <th>Roof Matl_Tar&amp;Grv</th>\n      <td>0.007018</td>\n    </tr>\n    <tr>\n      <th>Exterior 1st_AsphShn</th>\n      <td>-0.027621</td>\n    </tr>\n    <tr>\n      <th>Exterior 1st_BrkComm</th>\n      <td>-0.024377</td>\n    </tr>\n    <tr>\n      <th>Exterior 1st_BrkFace</th>\n      <td>0.026240</td>\n    </tr>\n    <tr>\n      <th>Exterior 1st_ImStucc</th>\n      <td>0.022446</td>\n    </tr>\n    <tr>\n      <th>Exterior 2nd_AsphShn</th>\n      <td>-0.023834</td>\n    </tr>\n    <tr>\n      <th>Exterior 2nd_BrkFace</th>\n      <td>0.010688</td>\n    </tr>\n    <tr>\n      <th>Exterior 2nd_Stone</th>\n      <td>-0.024642</td>\n    </tr>\n    <tr>\n      <th>Foundation_Stone</th>\n      <td>-0.023853</td>\n    </tr>\n    <tr>\n      <th>Foundation_Wood</th>\n      <td>-0.003044</td>\n    </tr>\n    <tr>\n      <th>Heating_OthW</th>\n      <td>-0.021969</td>\n    </tr>\n    <tr>\n      <th>Sale Type_CWD</th>\n      <td>0.004563</td>\n    </tr>\n    <tr>\n      <th>Sale Type_ConLI</th>\n      <td>0.019588</td>\n    </tr>\n  </tbody>\n</table>\n</div>"
     },
     "metadata": {},
     "execution_count": 163
    }
   ],
   "source": [
    "corr = pd.DataFrame(data.corr()['SalePrice'])\n",
    "corr[abs(corr['SalePrice'])<=0.03]"
   ]
  },
  {
   "cell_type": "code",
   "execution_count": 164,
   "metadata": {},
   "outputs": [],
   "source": [
    "cols_delete = corr[abs(corr['SalePrice'])<=0.03].index.tolist()"
   ]
  },
  {
   "cell_type": "code",
   "execution_count": 165,
   "metadata": {},
   "outputs": [],
   "source": [
    "new_data = data.drop(cols_delete,axis=1)\n",
    "new_test = test.drop(cols_delete,axis=1)"
   ]
  },
  {
   "cell_type": "code",
   "execution_count": 166,
   "metadata": {},
   "outputs": [
    {
     "output_type": "execute_result",
     "data": {
      "text/plain": [
       "                      MS SubClass  Lot Frontage  Lot Area  Lot Shape  \\\n",
       "MS SubClass              1.000000     -0.216259 -0.245484  -0.075306   \n",
       "Lot Frontage            -0.216259      1.000000  0.135586  -0.174018   \n",
       "Lot Area                -0.245484      0.135586  1.000000   0.301763   \n",
       "Lot Shape               -0.075306     -0.174018  0.301763   1.000000   \n",
       "Land Slope              -0.026752      0.013287  0.166321   0.089860   \n",
       "...                           ...           ...       ...        ...   \n",
       "Exterior 2nd_PreCast          NaN           NaN       NaN        NaN   \n",
       "Roof Matl_Roll                NaN           NaN       NaN        NaN   \n",
       "Sale Type_VWD                 NaN           NaN       NaN        NaN   \n",
       "Exterior 2nd_Other            NaN           NaN       NaN        NaN   \n",
       "Roof Matl_Metal               NaN           NaN       NaN        NaN   \n",
       "\n",
       "                      Land Slope  Overall Qual  Overall Cond  Year Built  \\\n",
       "MS SubClass            -0.026752      0.035763     -0.070141    0.035983   \n",
       "Lot Frontage            0.013287      0.114469     -0.032452    0.020571   \n",
       "Lot Area                0.166321      0.105824     -0.019185    0.036002   \n",
       "Lot Shape               0.089860      0.249357     -0.077207    0.277834   \n",
       "Land Slope              1.000000     -0.026555      0.009082   -0.037459   \n",
       "...                          ...           ...           ...         ...   \n",
       "Exterior 2nd_PreCast         NaN           NaN           NaN         NaN   \n",
       "Roof Matl_Roll               NaN           NaN           NaN         NaN   \n",
       "Sale Type_VWD                NaN           NaN           NaN         NaN   \n",
       "Exterior 2nd_Other           NaN           NaN           NaN         NaN   \n",
       "Roof Matl_Metal              NaN           NaN           NaN         NaN   \n",
       "\n",
       "                      Year Remod/Add  Mas Vnr Area  ...  Sale Type_Oth  \\\n",
       "MS SubClass                 0.044836     -0.002763  ...      -0.017561   \n",
       "Lot Frontage                0.058942      0.101672  ...      -0.019941   \n",
       "Lot Area                    0.050771      0.167520  ...      -0.011456   \n",
       "Lot Shape                   0.221336      0.127835  ...       0.007478   \n",
       "Land Slope                 -0.042802      0.014584  ...      -0.009773   \n",
       "...                              ...           ...  ...            ...   \n",
       "Exterior 2nd_PreCast             NaN           NaN  ...            NaN   \n",
       "Roof Matl_Roll                   NaN           NaN  ...            NaN   \n",
       "Sale Type_VWD                    NaN           NaN  ...            NaN   \n",
       "Exterior 2nd_Other               NaN           NaN  ...            NaN   \n",
       "Roof Matl_Metal                  NaN           NaN  ...            NaN   \n",
       "\n",
       "                      Sale Type_WD   Mas Vnr Type_CBlock  \\\n",
       "MS SubClass                0.065929                  NaN   \n",
       "Lot Frontage              -0.120749                  NaN   \n",
       "Lot Area                  -0.025417                  NaN   \n",
       "Lot Shape                 -0.017487                  NaN   \n",
       "Land Slope                 0.043892                  NaN   \n",
       "...                             ...                  ...   \n",
       "Exterior 2nd_PreCast            NaN                  NaN   \n",
       "Roof Matl_Roll                  NaN                  NaN   \n",
       "Sale Type_VWD                   NaN                  NaN   \n",
       "Exterior 2nd_Other              NaN                  NaN   \n",
       "Roof Matl_Metal                 NaN                  NaN   \n",
       "\n",
       "                      Exterior 1st_PreCast  Heating_GasA  \\\n",
       "MS SubClass                            NaN           NaN   \n",
       "Lot Frontage                           NaN           NaN   \n",
       "Lot Area                               NaN           NaN   \n",
       "Lot Shape                              NaN           NaN   \n",
       "Land Slope                             NaN           NaN   \n",
       "...                                    ...           ...   \n",
       "Exterior 2nd_PreCast                   NaN           NaN   \n",
       "Roof Matl_Roll                         NaN           NaN   \n",
       "Sale Type_VWD                          NaN           NaN   \n",
       "Exterior 2nd_Other                     NaN           NaN   \n",
       "Roof Matl_Metal                        NaN           NaN   \n",
       "\n",
       "                      Exterior 2nd_PreCast  Roof Matl_Roll  Sale Type_VWD  \\\n",
       "MS SubClass                            NaN             NaN            NaN   \n",
       "Lot Frontage                           NaN             NaN            NaN   \n",
       "Lot Area                               NaN             NaN            NaN   \n",
       "Lot Shape                              NaN             NaN            NaN   \n",
       "Land Slope                             NaN             NaN            NaN   \n",
       "...                                    ...             ...            ...   \n",
       "Exterior 2nd_PreCast                   NaN             NaN            NaN   \n",
       "Roof Matl_Roll                         NaN             NaN            NaN   \n",
       "Sale Type_VWD                          NaN             NaN            NaN   \n",
       "Exterior 2nd_Other                     NaN             NaN            NaN   \n",
       "Roof Matl_Metal                        NaN             NaN            NaN   \n",
       "\n",
       "                      Exterior 2nd_Other  Roof Matl_Metal  \n",
       "MS SubClass                          NaN              NaN  \n",
       "Lot Frontage                         NaN              NaN  \n",
       "Lot Area                             NaN              NaN  \n",
       "Lot Shape                            NaN              NaN  \n",
       "Land Slope                           NaN              NaN  \n",
       "...                                  ...              ...  \n",
       "Exterior 2nd_PreCast                 NaN              NaN  \n",
       "Roof Matl_Roll                       NaN              NaN  \n",
       "Sale Type_VWD                        NaN              NaN  \n",
       "Exterior 2nd_Other                   NaN              NaN  \n",
       "Roof Matl_Metal                      NaN              NaN  \n",
       "\n",
       "[161 rows x 161 columns]"
      ],
      "text/html": "<div>\n<style scoped>\n    .dataframe tbody tr th:only-of-type {\n        vertical-align: middle;\n    }\n\n    .dataframe tbody tr th {\n        vertical-align: top;\n    }\n\n    .dataframe thead th {\n        text-align: right;\n    }\n</style>\n<table border=\"1\" class=\"dataframe\">\n  <thead>\n    <tr style=\"text-align: right;\">\n      <th></th>\n      <th>MS SubClass</th>\n      <th>Lot Frontage</th>\n      <th>Lot Area</th>\n      <th>Lot Shape</th>\n      <th>Land Slope</th>\n      <th>Overall Qual</th>\n      <th>Overall Cond</th>\n      <th>Year Built</th>\n      <th>Year Remod/Add</th>\n      <th>Mas Vnr Area</th>\n      <th>...</th>\n      <th>Sale Type_Oth</th>\n      <th>Sale Type_WD</th>\n      <th>Mas Vnr Type_CBlock</th>\n      <th>Exterior 1st_PreCast</th>\n      <th>Heating_GasA</th>\n      <th>Exterior 2nd_PreCast</th>\n      <th>Roof Matl_Roll</th>\n      <th>Sale Type_VWD</th>\n      <th>Exterior 2nd_Other</th>\n      <th>Roof Matl_Metal</th>\n    </tr>\n  </thead>\n  <tbody>\n    <tr>\n      <th>MS SubClass</th>\n      <td>1.000000</td>\n      <td>-0.216259</td>\n      <td>-0.245484</td>\n      <td>-0.075306</td>\n      <td>-0.026752</td>\n      <td>0.035763</td>\n      <td>-0.070141</td>\n      <td>0.035983</td>\n      <td>0.044836</td>\n      <td>-0.002763</td>\n      <td>...</td>\n      <td>-0.017561</td>\n      <td>0.065929</td>\n      <td>NaN</td>\n      <td>NaN</td>\n      <td>NaN</td>\n      <td>NaN</td>\n      <td>NaN</td>\n      <td>NaN</td>\n      <td>NaN</td>\n      <td>NaN</td>\n    </tr>\n    <tr>\n      <th>Lot Frontage</th>\n      <td>-0.216259</td>\n      <td>1.000000</td>\n      <td>0.135586</td>\n      <td>-0.174018</td>\n      <td>0.013287</td>\n      <td>0.114469</td>\n      <td>-0.032452</td>\n      <td>0.020571</td>\n      <td>0.058942</td>\n      <td>0.101672</td>\n      <td>...</td>\n      <td>-0.019941</td>\n      <td>-0.120749</td>\n      <td>NaN</td>\n      <td>NaN</td>\n      <td>NaN</td>\n      <td>NaN</td>\n      <td>NaN</td>\n      <td>NaN</td>\n      <td>NaN</td>\n      <td>NaN</td>\n    </tr>\n    <tr>\n      <th>Lot Area</th>\n      <td>-0.245484</td>\n      <td>0.135586</td>\n      <td>1.000000</td>\n      <td>0.301763</td>\n      <td>0.166321</td>\n      <td>0.105824</td>\n      <td>-0.019185</td>\n      <td>0.036002</td>\n      <td>0.050771</td>\n      <td>0.167520</td>\n      <td>...</td>\n      <td>-0.011456</td>\n      <td>-0.025417</td>\n      <td>NaN</td>\n      <td>NaN</td>\n      <td>NaN</td>\n      <td>NaN</td>\n      <td>NaN</td>\n      <td>NaN</td>\n      <td>NaN</td>\n      <td>NaN</td>\n    </tr>\n    <tr>\n      <th>Lot Shape</th>\n      <td>-0.075306</td>\n      <td>-0.174018</td>\n      <td>0.301763</td>\n      <td>1.000000</td>\n      <td>0.089860</td>\n      <td>0.249357</td>\n      <td>-0.077207</td>\n      <td>0.277834</td>\n      <td>0.221336</td>\n      <td>0.127835</td>\n      <td>...</td>\n      <td>0.007478</td>\n      <td>-0.017487</td>\n      <td>NaN</td>\n      <td>NaN</td>\n      <td>NaN</td>\n      <td>NaN</td>\n      <td>NaN</td>\n      <td>NaN</td>\n      <td>NaN</td>\n      <td>NaN</td>\n    </tr>\n    <tr>\n      <th>Land Slope</th>\n      <td>-0.026752</td>\n      <td>0.013287</td>\n      <td>0.166321</td>\n      <td>0.089860</td>\n      <td>1.000000</td>\n      <td>-0.026555</td>\n      <td>0.009082</td>\n      <td>-0.037459</td>\n      <td>-0.042802</td>\n      <td>0.014584</td>\n      <td>...</td>\n      <td>-0.009773</td>\n      <td>0.043892</td>\n      <td>NaN</td>\n      <td>NaN</td>\n      <td>NaN</td>\n      <td>NaN</td>\n      <td>NaN</td>\n      <td>NaN</td>\n      <td>NaN</td>\n      <td>NaN</td>\n    </tr>\n    <tr>\n      <th>...</th>\n      <td>...</td>\n      <td>...</td>\n      <td>...</td>\n      <td>...</td>\n      <td>...</td>\n      <td>...</td>\n      <td>...</td>\n      <td>...</td>\n      <td>...</td>\n      <td>...</td>\n      <td>...</td>\n      <td>...</td>\n      <td>...</td>\n      <td>...</td>\n      <td>...</td>\n      <td>...</td>\n      <td>...</td>\n      <td>...</td>\n      <td>...</td>\n      <td>...</td>\n      <td>...</td>\n    </tr>\n    <tr>\n      <th>Exterior 2nd_PreCast</th>\n      <td>NaN</td>\n      <td>NaN</td>\n      <td>NaN</td>\n      <td>NaN</td>\n      <td>NaN</td>\n      <td>NaN</td>\n      <td>NaN</td>\n      <td>NaN</td>\n      <td>NaN</td>\n      <td>NaN</td>\n      <td>...</td>\n      <td>NaN</td>\n      <td>NaN</td>\n      <td>NaN</td>\n      <td>NaN</td>\n      <td>NaN</td>\n      <td>NaN</td>\n      <td>NaN</td>\n      <td>NaN</td>\n      <td>NaN</td>\n      <td>NaN</td>\n    </tr>\n    <tr>\n      <th>Roof Matl_Roll</th>\n      <td>NaN</td>\n      <td>NaN</td>\n      <td>NaN</td>\n      <td>NaN</td>\n      <td>NaN</td>\n      <td>NaN</td>\n      <td>NaN</td>\n      <td>NaN</td>\n      <td>NaN</td>\n      <td>NaN</td>\n      <td>...</td>\n      <td>NaN</td>\n      <td>NaN</td>\n      <td>NaN</td>\n      <td>NaN</td>\n      <td>NaN</td>\n      <td>NaN</td>\n      <td>NaN</td>\n      <td>NaN</td>\n      <td>NaN</td>\n      <td>NaN</td>\n    </tr>\n    <tr>\n      <th>Sale Type_VWD</th>\n      <td>NaN</td>\n      <td>NaN</td>\n      <td>NaN</td>\n      <td>NaN</td>\n      <td>NaN</td>\n      <td>NaN</td>\n      <td>NaN</td>\n      <td>NaN</td>\n      <td>NaN</td>\n      <td>NaN</td>\n      <td>...</td>\n      <td>NaN</td>\n      <td>NaN</td>\n      <td>NaN</td>\n      <td>NaN</td>\n      <td>NaN</td>\n      <td>NaN</td>\n      <td>NaN</td>\n      <td>NaN</td>\n      <td>NaN</td>\n      <td>NaN</td>\n    </tr>\n    <tr>\n      <th>Exterior 2nd_Other</th>\n      <td>NaN</td>\n      <td>NaN</td>\n      <td>NaN</td>\n      <td>NaN</td>\n      <td>NaN</td>\n      <td>NaN</td>\n      <td>NaN</td>\n      <td>NaN</td>\n      <td>NaN</td>\n      <td>NaN</td>\n      <td>...</td>\n      <td>NaN</td>\n      <td>NaN</td>\n      <td>NaN</td>\n      <td>NaN</td>\n      <td>NaN</td>\n      <td>NaN</td>\n      <td>NaN</td>\n      <td>NaN</td>\n      <td>NaN</td>\n      <td>NaN</td>\n    </tr>\n    <tr>\n      <th>Roof Matl_Metal</th>\n      <td>NaN</td>\n      <td>NaN</td>\n      <td>NaN</td>\n      <td>NaN</td>\n      <td>NaN</td>\n      <td>NaN</td>\n      <td>NaN</td>\n      <td>NaN</td>\n      <td>NaN</td>\n      <td>NaN</td>\n      <td>...</td>\n      <td>NaN</td>\n      <td>NaN</td>\n      <td>NaN</td>\n      <td>NaN</td>\n      <td>NaN</td>\n      <td>NaN</td>\n      <td>NaN</td>\n      <td>NaN</td>\n      <td>NaN</td>\n      <td>NaN</td>\n    </tr>\n  </tbody>\n</table>\n<p>161 rows × 161 columns</p>\n</div>"
     },
     "metadata": {},
     "execution_count": 166
    }
   ],
   "source": [
    "#remove features with high collinearity\n",
    "new_data.corr()"
   ]
  },
  {
   "cell_type": "code",
   "execution_count": 167,
   "metadata": {},
   "outputs": [],
   "source": [
    "correlated_features = set()\n",
    "correlation_matrix = new_data.corr()\n",
    "\n",
    "for i in range(len(correlation_matrix.columns)):\n",
    "    for j in range(i):\n",
    "        if abs(correlation_matrix.iloc[i, j]) > 0.8:\n",
    "            colname = correlation_matrix.columns[i]\n",
    "            correlated_features.add(colname)\n"
   ]
  },
  {
   "cell_type": "code",
   "execution_count": 168,
   "metadata": {},
   "outputs": [
    {
     "output_type": "execute_result",
     "data": {
      "text/plain": [
       "19"
      ]
     },
     "metadata": {},
     "execution_count": 168
    }
   ],
   "source": [
    "len(correlated_features)\n",
    "\n",
    "#19 highly correlated features"
   ]
  },
  {
   "cell_type": "code",
   "execution_count": 169,
   "metadata": {},
   "outputs": [
    {
     "output_type": "execute_result",
     "data": {
      "text/plain": [
       "{'1st Flr SF',\n",
       " 'Exterior 2nd_Brk Cmn',\n",
       " 'Exterior 2nd_CmentBd',\n",
       " 'Exterior 2nd_HdBoard',\n",
       " 'Exterior 2nd_MetalSd',\n",
       " 'Exterior 2nd_VinylSd',\n",
       " 'Exterior 2nd_Wd Sdng',\n",
       " 'Fireplace Qu',\n",
       " 'Garage Area',\n",
       " 'Garage Cond',\n",
       " 'Garage Qual',\n",
       " 'Garage Type_None',\n",
       " 'House Style_2Story',\n",
       " 'MS Zoning_RM',\n",
       " 'Mas Vnr Type_None',\n",
       " 'Neighborhood_Somerst',\n",
       " 'Roof Style_Hip',\n",
       " 'SalePrice',\n",
       " 'TotRms AbvGrd'}"
      ]
     },
     "metadata": {},
     "execution_count": 169
    }
   ],
   "source": [
    "correlated_features"
   ]
  },
  {
   "cell_type": "code",
   "execution_count": 170,
   "metadata": {},
   "outputs": [],
   "source": [
    "correlated_features.remove('SalePrice')"
   ]
  },
  {
   "cell_type": "code",
   "execution_count": 171,
   "metadata": {},
   "outputs": [],
   "source": [
    "new_data.drop(labels=correlated_features, axis=1, inplace=True)\n",
    "new_test.drop(labels=correlated_features, axis=1, inplace=True)"
   ]
  },
  {
   "cell_type": "code",
   "execution_count": 172,
   "metadata": {},
   "outputs": [],
   "source": [
    "#save dataframe after feature engineering.\n",
    "new_data.to_csv('datasets/train_feature_engineer.csv',index=False)\n",
    "new_test.to_csv('datasets/test_feature_engineer.csv',index=False)"
   ]
  },
  {
   "cell_type": "code",
   "execution_count": 173,
   "metadata": {},
   "outputs": [],
   "source": [
    "#create X and y values"
   ]
  },
  {
   "cell_type": "code",
   "execution_count": 174,
   "metadata": {},
   "outputs": [],
   "source": [
    "X = new_data.drop('SalePrice',axis=1)\n",
    "y = new_data['SalePrice']"
   ]
  },
  {
   "cell_type": "code",
   "execution_count": 175,
   "metadata": {},
   "outputs": [],
   "source": [
    "#create polynomial features\n",
    "#to check for interactions between terms"
   ]
  },
  {
   "cell_type": "code",
   "execution_count": 176,
   "metadata": {},
   "outputs": [],
   "source": [
    "from sklearn.preprocessing import PolynomialFeatures"
   ]
  },
  {
   "cell_type": "code",
   "execution_count": 177,
   "metadata": {},
   "outputs": [],
   "source": [
    "poly_convert = PolynomialFeatures(include_bias=False)\n",
    "X_poly = poly_convert.fit_transform(X)"
   ]
  },
  {
   "cell_type": "code",
   "execution_count": 178,
   "metadata": {},
   "outputs": [],
   "source": [
    "#TRAIN TEST SPLIT the data to prevent data leakage before doing Standard Scalar"
   ]
  },
  {
   "cell_type": "code",
   "execution_count": 179,
   "metadata": {},
   "outputs": [],
   "source": [
    "from sklearn.model_selection import train_test_split"
   ]
  },
  {
   "cell_type": "code",
   "execution_count": 180,
   "metadata": {},
   "outputs": [],
   "source": [
    "X_train, X_test, y_train, y_test = train_test_split(X_poly,y,test_size=0.3,random_state=57)"
   ]
  },
  {
   "cell_type": "code",
   "execution_count": 181,
   "metadata": {},
   "outputs": [],
   "source": [
    "#STANDARD SCALAR values\n",
    "from sklearn.preprocessing import StandardScaler"
   ]
  },
  {
   "cell_type": "code",
   "execution_count": 182,
   "metadata": {},
   "outputs": [],
   "source": [
    "ss = StandardScaler()\n",
    "ss.fit(X_train)\n",
    "Z_train = ss.transform(X_train)\n",
    "Z_test = ss.transform(X_test)"
   ]
  },
  {
   "cell_type": "code",
   "execution_count": 183,
   "metadata": {},
   "outputs": [],
   "source": [
    "#Create the 1st model"
   ]
  },
  {
   "cell_type": "code",
   "execution_count": 184,
   "metadata": {},
   "outputs": [],
   "source": [
    "from sklearn.linear_model import ElasticNetCV"
   ]
  },
  {
   "cell_type": "code",
   "execution_count": 185,
   "metadata": {
    "scrolled": true
   },
   "outputs": [],
   "source": [
    "en = ElasticNetCV(cv=3,max_iter=10000,l1_ratio=[.1, .7, .9],verbose=1,n_alphas=5)\n",
    "\n",
    "#elastic net - considers both lasso and ridge regression\n",
    "#For l1_ratio = 0 the penalty is an L2 penalty (Ridge). For l1_ratio = 1 it is an L1 penalty (Lasso). \n",
    "#Consider both penalities."
   ]
  },
  {
   "cell_type": "code",
   "execution_count": 186,
   "metadata": {
    "scrolled": true
   },
   "outputs": [
    {
     "output_type": "stream",
     "name": "stderr",
     "text": [
      "[Parallel(n_jobs=1)]: Using backend SequentialBackend with 1 concurrent workers.\n",
      ".............................................[Parallel(n_jobs=1)]: Done   9 out of   9 | elapsed:   12.1s finished\n"
     ]
    },
    {
     "output_type": "execute_result",
     "data": {
      "text/plain": [
       "ElasticNetCV(cv=3, l1_ratio=[0.1, 0.7, 0.9], max_iter=10000, n_alphas=5,\n",
       "             verbose=1)"
      ]
     },
     "metadata": {},
     "execution_count": 186
    }
   ],
   "source": [
    "en.fit(Z_train,y_train)"
   ]
  },
  {
   "cell_type": "code",
   "execution_count": 187,
   "metadata": {},
   "outputs": [],
   "source": [
    "#find best alpha and best l1_ratio"
   ]
  },
  {
   "cell_type": "code",
   "execution_count": 188,
   "metadata": {
    "scrolled": true
   },
   "outputs": [
    {
     "output_type": "execute_result",
     "data": {
      "text/plain": [
       "72.10404171881626"
      ]
     },
     "metadata": {},
     "execution_count": 188
    }
   ],
   "source": [
    "en.alpha_"
   ]
  },
  {
   "cell_type": "code",
   "execution_count": 189,
   "metadata": {
    "scrolled": true
   },
   "outputs": [
    {
     "output_type": "execute_result",
     "data": {
      "text/plain": [
       "0.9"
      ]
     },
     "metadata": {},
     "execution_count": 189
    }
   ],
   "source": [
    "en.l1_ratio_"
   ]
  },
  {
   "cell_type": "code",
   "execution_count": 190,
   "metadata": {},
   "outputs": [],
   "source": [
    "#check train test score"
   ]
  },
  {
   "cell_type": "code",
   "execution_count": 191,
   "metadata": {},
   "outputs": [
    {
     "output_type": "execute_result",
     "data": {
      "text/plain": [
       "0.9345963164929196"
      ]
     },
     "metadata": {},
     "execution_count": 191
    }
   ],
   "source": [
    "en.score(Z_train,y_train)"
   ]
  },
  {
   "cell_type": "code",
   "execution_count": 192,
   "metadata": {
    "scrolled": true
   },
   "outputs": [
    {
     "output_type": "execute_result",
     "data": {
      "text/plain": [
       "0.8933954190248756"
      ]
     },
     "metadata": {},
     "execution_count": 192
    }
   ],
   "source": [
    "en.score(Z_test,y_test)"
   ]
  },
  {
   "cell_type": "code",
   "execution_count": 193,
   "metadata": {},
   "outputs": [],
   "source": [
    "#check train test rsme"
   ]
  },
  {
   "cell_type": "code",
   "execution_count": 194,
   "metadata": {},
   "outputs": [],
   "source": [
    "y_pred_test=en.predict(Z_test)\n",
    "y_pred_train=en.predict(Z_train)"
   ]
  },
  {
   "cell_type": "code",
   "execution_count": 195,
   "metadata": {},
   "outputs": [],
   "source": [
    "from sklearn.metrics import mean_squared_error"
   ]
  },
  {
   "cell_type": "code",
   "execution_count": 197,
   "metadata": {},
   "outputs": [
    {
     "output_type": "execute_result",
     "data": {
      "text/plain": [
       "26106.372037948913"
      ]
     },
     "metadata": {},
     "execution_count": 197
    }
   ],
   "source": [
    "#RSME TEST\n",
    "np.sqrt(mean_squared_error(y_test,y_pred_test))"
   ]
  },
  {
   "cell_type": "code",
   "execution_count": 229,
   "metadata": {},
   "outputs": [
    {
     "output_type": "execute_result",
     "data": {
      "text/plain": [
       "['models/test_org.joblib']"
      ]
     },
     "metadata": {},
     "execution_count": 229
    }
   ],
   "source": [
    "from joblib import load,dump\n",
    "dump(en,'models/test_org.joblib')"
   ]
  },
  {
   "cell_type": "code",
   "execution_count": 198,
   "metadata": {},
   "outputs": [],
   "source": [
    "#find out which coefficients are important"
   ]
  },
  {
   "cell_type": "code",
   "execution_count": 199,
   "metadata": {
    "scrolled": false
   },
   "outputs": [
    {
     "output_type": "execute_result",
     "data": {
      "text/plain": [
       "array([-79.33782576,  47.9470988 , 122.91174659, ...,   0.        ,\n",
       "         0.        ,   0.        ])"
      ]
     },
     "metadata": {},
     "execution_count": 199
    }
   ],
   "source": [
    "en.coef_"
   ]
  },
  {
   "cell_type": "code",
   "execution_count": 200,
   "metadata": {},
   "outputs": [],
   "source": [
    "coef = pd.DataFrame(en.coef_,columns=['coef'],index=poly_convert.get_feature_names(list(data.columns)))"
   ]
  },
  {
   "cell_type": "code",
   "execution_count": 201,
   "metadata": {
    "scrolled": true
   },
   "outputs": [
    {
     "output_type": "execute_result",
     "data": {
      "text/plain": [
       "                                       coef\n",
       "Year Remod/Add MS Zoning_RL     -538.133563\n",
       "BsmtFin Type 1 MS Zoning_RL     -451.060842\n",
       "MS Zoning_RL Roof Matl_CompShg  -436.021683\n",
       "Fireplace Qu MS Zoning_RL       -401.188042\n",
       "2nd Flr SF Fireplace Qu         -381.021907\n",
       "...                                     ...\n",
       "Electrical Neighborhood_Somerst  466.492835\n",
       "Land Slope Overall Qual          487.931139\n",
       "Land Slope Electrical            514.115648\n",
       "Land Slope^2                     517.051205\n",
       "Overall Qual Electrical          528.799355\n",
       "\n",
       "[10295 rows x 1 columns]"
      ],
      "text/html": "<div>\n<style scoped>\n    .dataframe tbody tr th:only-of-type {\n        vertical-align: middle;\n    }\n\n    .dataframe tbody tr th {\n        vertical-align: top;\n    }\n\n    .dataframe thead th {\n        text-align: right;\n    }\n</style>\n<table border=\"1\" class=\"dataframe\">\n  <thead>\n    <tr style=\"text-align: right;\">\n      <th></th>\n      <th>coef</th>\n    </tr>\n  </thead>\n  <tbody>\n    <tr>\n      <th>Year Remod/Add MS Zoning_RL</th>\n      <td>-538.133563</td>\n    </tr>\n    <tr>\n      <th>BsmtFin Type 1 MS Zoning_RL</th>\n      <td>-451.060842</td>\n    </tr>\n    <tr>\n      <th>MS Zoning_RL Roof Matl_CompShg</th>\n      <td>-436.021683</td>\n    </tr>\n    <tr>\n      <th>Fireplace Qu MS Zoning_RL</th>\n      <td>-401.188042</td>\n    </tr>\n    <tr>\n      <th>2nd Flr SF Fireplace Qu</th>\n      <td>-381.021907</td>\n    </tr>\n    <tr>\n      <th>...</th>\n      <td>...</td>\n    </tr>\n    <tr>\n      <th>Electrical Neighborhood_Somerst</th>\n      <td>466.492835</td>\n    </tr>\n    <tr>\n      <th>Land Slope Overall Qual</th>\n      <td>487.931139</td>\n    </tr>\n    <tr>\n      <th>Land Slope Electrical</th>\n      <td>514.115648</td>\n    </tr>\n    <tr>\n      <th>Land Slope^2</th>\n      <td>517.051205</td>\n    </tr>\n    <tr>\n      <th>Overall Qual Electrical</th>\n      <td>528.799355</td>\n    </tr>\n  </tbody>\n</table>\n<p>10295 rows × 1 columns</p>\n</div>"
     },
     "metadata": {},
     "execution_count": 201
    }
   ],
   "source": [
    "coef[coef.notnull()].sort_values(by='coef')\n",
    "#below are non-null coefficients"
   ]
  },
  {
   "cell_type": "code",
   "execution_count": 202,
   "metadata": {},
   "outputs": [],
   "source": [
    "#seems like best indicator of price is overall qual^2."
   ]
  },
  {
   "cell_type": "code",
   "execution_count": 203,
   "metadata": {},
   "outputs": [],
   "source": [
    "#try this same model but log the saleprice to make it more normally distributed"
   ]
  },
  {
   "cell_type": "code",
   "execution_count": 204,
   "metadata": {},
   "outputs": [],
   "source": [
    "enlog = ElasticNetCV(cv=3,max_iter=10000,l1_ratio=[.1, .7, .9],verbose=1,n_alphas=5)"
   ]
  },
  {
   "cell_type": "code",
   "execution_count": 205,
   "metadata": {},
   "outputs": [],
   "source": [
    "y_train_log = np.log(y_train)"
   ]
  },
  {
   "cell_type": "code",
   "execution_count": 206,
   "metadata": {},
   "outputs": [
    {
     "output_type": "stream",
     "name": "stderr",
     "text": [
      "[Parallel(n_jobs=1)]: Using backend SequentialBackend with 1 concurrent workers.\n",
      ".............................................[Parallel(n_jobs=1)]: Done   9 out of   9 | elapsed:  3.0min finished\n"
     ]
    },
    {
     "output_type": "execute_result",
     "data": {
      "text/plain": [
       "ElasticNetCV(cv=3, l1_ratio=[0.1, 0.7, 0.9], max_iter=10000, n_alphas=5,\n",
       "             verbose=1)"
      ]
     },
     "metadata": {},
     "execution_count": 206
    }
   ],
   "source": [
    "enlog.fit(Z_train,y_train_log)"
   ]
  },
  {
   "cell_type": "code",
   "execution_count": 207,
   "metadata": {},
   "outputs": [
    {
     "output_type": "execute_result",
     "data": {
      "text/plain": [
       "0.01926185723579409"
      ]
     },
     "metadata": {},
     "execution_count": 207
    }
   ],
   "source": [
    "enlog.alpha_"
   ]
  },
  {
   "cell_type": "code",
   "execution_count": 208,
   "metadata": {},
   "outputs": [
    {
     "output_type": "execute_result",
     "data": {
      "text/plain": [
       "0.1"
      ]
     },
     "metadata": {},
     "execution_count": 208
    }
   ],
   "source": [
    "enlog.l1_ratio_"
   ]
  },
  {
   "cell_type": "code",
   "execution_count": 209,
   "metadata": {},
   "outputs": [],
   "source": [
    "y_test_log = np.log(y_test)"
   ]
  },
  {
   "cell_type": "code",
   "execution_count": 210,
   "metadata": {},
   "outputs": [],
   "source": [
    "ylog_pred_test=enlog.predict(Z_test)\n",
    "ylog_pred_train=enlog.predict(Z_train)"
   ]
  },
  {
   "cell_type": "code",
   "execution_count": 211,
   "metadata": {},
   "outputs": [
    {
     "output_type": "execute_result",
     "data": {
      "text/plain": [
       "23573.918549606165"
      ]
     },
     "metadata": {},
     "execution_count": 211
    }
   ],
   "source": [
    "#RSME test\n",
    "np.sqrt(mean_squared_error(np.exp(y_test_log),np.exp(ylog_pred_test)))"
   ]
  },
  {
   "cell_type": "code",
   "execution_count": 213,
   "metadata": {},
   "outputs": [],
   "source": [
    "#Looks like taking the log of the sale price is better\n",
    "#rsme is lower"
   ]
  },
  {
   "cell_type": "code",
   "execution_count": 230,
   "metadata": {},
   "outputs": [
    {
     "output_type": "execute_result",
     "data": {
      "text/plain": [
       "['models/test_log.joblib']"
      ]
     },
     "metadata": {},
     "execution_count": 230
    }
   ],
   "source": [
    "dump(en,'models/test_log.joblib')"
   ]
  },
  {
   "cell_type": "code",
   "execution_count": 214,
   "metadata": {},
   "outputs": [],
   "source": [
    "#test model on unseen data\n",
    "#TEST ON KAGGLE"
   ]
  },
  {
   "cell_type": "code",
   "execution_count": 215,
   "metadata": {},
   "outputs": [],
   "source": [
    "val_id = pd.read_csv('datasets/test_feature_engineer.csv')"
   ]
  },
  {
   "cell_type": "code",
   "execution_count": 216,
   "metadata": {
    "scrolled": true
   },
   "outputs": [
    {
     "output_type": "execute_result",
     "data": {
      "text/plain": [
       "     Id  MS SubClass  Lot Frontage  Lot Area  Lot Shape  Land Slope  \\\n",
       "0  2658          190          69.0      9142          1           1   \n",
       "1  2718           90           0.0      9662          2           1   \n",
       "2  2414           60          58.0     17104          2           1   \n",
       "3  1989           30          60.0      8520          1           1   \n",
       "4   625           20           0.0      9500          2           1   \n",
       "\n",
       "   Overall Qual  Overall Cond  Year Built  Year Remod/Add  ...  Sale Type_Oth  \\\n",
       "0             6             8        1910            1950  ...              0   \n",
       "1             5             4        1977            1977  ...              0   \n",
       "2             7             5        2006            2006  ...              0   \n",
       "3             5             6        1923            2006  ...              0   \n",
       "4             6             5        1963            1963  ...              0   \n",
       "\n",
       "   Sale Type_WD   Mas Vnr Type_CBlock  Exterior 1st_PreCast  Heating_GasA  \\\n",
       "0              1                    0                     0             1   \n",
       "1              1                    0                     0             1   \n",
       "2              0                    0                     0             1   \n",
       "3              1                    0                     0             1   \n",
       "4              1                    0                     0             1   \n",
       "\n",
       "   Exterior 2nd_PreCast  Roof Matl_Roll  Sale Type_VWD  Exterior 2nd_Other  \\\n",
       "0                     0               0              0                   0   \n",
       "1                     0               0              0                   0   \n",
       "2                     0               0              0                   0   \n",
       "3                     0               0              0                   0   \n",
       "4                     0               0              0                   0   \n",
       "\n",
       "   Roof Matl_Metal  \n",
       "0                0  \n",
       "1                0  \n",
       "2                0  \n",
       "3                0  \n",
       "4                0  \n",
       "\n",
       "[5 rows x 143 columns]"
      ],
      "text/html": "<div>\n<style scoped>\n    .dataframe tbody tr th:only-of-type {\n        vertical-align: middle;\n    }\n\n    .dataframe tbody tr th {\n        vertical-align: top;\n    }\n\n    .dataframe thead th {\n        text-align: right;\n    }\n</style>\n<table border=\"1\" class=\"dataframe\">\n  <thead>\n    <tr style=\"text-align: right;\">\n      <th></th>\n      <th>Id</th>\n      <th>MS SubClass</th>\n      <th>Lot Frontage</th>\n      <th>Lot Area</th>\n      <th>Lot Shape</th>\n      <th>Land Slope</th>\n      <th>Overall Qual</th>\n      <th>Overall Cond</th>\n      <th>Year Built</th>\n      <th>Year Remod/Add</th>\n      <th>...</th>\n      <th>Sale Type_Oth</th>\n      <th>Sale Type_WD</th>\n      <th>Mas Vnr Type_CBlock</th>\n      <th>Exterior 1st_PreCast</th>\n      <th>Heating_GasA</th>\n      <th>Exterior 2nd_PreCast</th>\n      <th>Roof Matl_Roll</th>\n      <th>Sale Type_VWD</th>\n      <th>Exterior 2nd_Other</th>\n      <th>Roof Matl_Metal</th>\n    </tr>\n  </thead>\n  <tbody>\n    <tr>\n      <th>0</th>\n      <td>2658</td>\n      <td>190</td>\n      <td>69.0</td>\n      <td>9142</td>\n      <td>1</td>\n      <td>1</td>\n      <td>6</td>\n      <td>8</td>\n      <td>1910</td>\n      <td>1950</td>\n      <td>...</td>\n      <td>0</td>\n      <td>1</td>\n      <td>0</td>\n      <td>0</td>\n      <td>1</td>\n      <td>0</td>\n      <td>0</td>\n      <td>0</td>\n      <td>0</td>\n      <td>0</td>\n    </tr>\n    <tr>\n      <th>1</th>\n      <td>2718</td>\n      <td>90</td>\n      <td>0.0</td>\n      <td>9662</td>\n      <td>2</td>\n      <td>1</td>\n      <td>5</td>\n      <td>4</td>\n      <td>1977</td>\n      <td>1977</td>\n      <td>...</td>\n      <td>0</td>\n      <td>1</td>\n      <td>0</td>\n      <td>0</td>\n      <td>1</td>\n      <td>0</td>\n      <td>0</td>\n      <td>0</td>\n      <td>0</td>\n      <td>0</td>\n    </tr>\n    <tr>\n      <th>2</th>\n      <td>2414</td>\n      <td>60</td>\n      <td>58.0</td>\n      <td>17104</td>\n      <td>2</td>\n      <td>1</td>\n      <td>7</td>\n      <td>5</td>\n      <td>2006</td>\n      <td>2006</td>\n      <td>...</td>\n      <td>0</td>\n      <td>0</td>\n      <td>0</td>\n      <td>0</td>\n      <td>1</td>\n      <td>0</td>\n      <td>0</td>\n      <td>0</td>\n      <td>0</td>\n      <td>0</td>\n    </tr>\n    <tr>\n      <th>3</th>\n      <td>1989</td>\n      <td>30</td>\n      <td>60.0</td>\n      <td>8520</td>\n      <td>1</td>\n      <td>1</td>\n      <td>5</td>\n      <td>6</td>\n      <td>1923</td>\n      <td>2006</td>\n      <td>...</td>\n      <td>0</td>\n      <td>1</td>\n      <td>0</td>\n      <td>0</td>\n      <td>1</td>\n      <td>0</td>\n      <td>0</td>\n      <td>0</td>\n      <td>0</td>\n      <td>0</td>\n    </tr>\n    <tr>\n      <th>4</th>\n      <td>625</td>\n      <td>20</td>\n      <td>0.0</td>\n      <td>9500</td>\n      <td>2</td>\n      <td>1</td>\n      <td>6</td>\n      <td>5</td>\n      <td>1963</td>\n      <td>1963</td>\n      <td>...</td>\n      <td>0</td>\n      <td>1</td>\n      <td>0</td>\n      <td>0</td>\n      <td>1</td>\n      <td>0</td>\n      <td>0</td>\n      <td>0</td>\n      <td>0</td>\n      <td>0</td>\n    </tr>\n  </tbody>\n</table>\n<p>5 rows × 143 columns</p>\n</div>"
     },
     "metadata": {},
     "execution_count": 216
    }
   ],
   "source": [
    "val_id.head()"
   ]
  },
  {
   "cell_type": "code",
   "execution_count": 217,
   "metadata": {},
   "outputs": [],
   "source": [
    "val = val_id.drop('Id',axis=1)"
   ]
  },
  {
   "cell_type": "code",
   "execution_count": 218,
   "metadata": {},
   "outputs": [],
   "source": [
    "poly_convert = PolynomialFeatures(include_bias=False)\n",
    "val_poly = poly_convert.fit_transform(val)"
   ]
  },
  {
   "cell_type": "code",
   "execution_count": 219,
   "metadata": {},
   "outputs": [],
   "source": [
    "Z_val = ss.transform(val_poly)"
   ]
  },
  {
   "cell_type": "code",
   "execution_count": 220,
   "metadata": {},
   "outputs": [],
   "source": [
    "pred=enlog.predict(Z_val)"
   ]
  },
  {
   "cell_type": "code",
   "execution_count": 221,
   "metadata": {},
   "outputs": [],
   "source": [
    "results = val_id['Id']"
   ]
  },
  {
   "cell_type": "code",
   "execution_count": 222,
   "metadata": {},
   "outputs": [
    {
     "output_type": "execute_result",
     "data": {
      "text/plain": [
       "0      2658\n",
       "1      2718\n",
       "2      2414\n",
       "3      1989\n",
       "4       625\n",
       "       ... \n",
       "873    1662\n",
       "874    1234\n",
       "875    1373\n",
       "876    1672\n",
       "877    1939\n",
       "Name: Id, Length: 878, dtype: int64"
      ]
     },
     "metadata": {},
     "execution_count": 222
    }
   ],
   "source": [
    "results"
   ]
  },
  {
   "cell_type": "code",
   "execution_count": 223,
   "metadata": {},
   "outputs": [],
   "source": [
    "results = pd.DataFrame(results,columns=['Id'])"
   ]
  },
  {
   "cell_type": "code",
   "execution_count": 224,
   "metadata": {},
   "outputs": [],
   "source": [
    "results['SalePrice'] = np.exp(pred)"
   ]
  },
  {
   "cell_type": "code",
   "execution_count": 225,
   "metadata": {},
   "outputs": [
    {
     "output_type": "execute_result",
     "data": {
      "text/plain": [
       "       Id      SalePrice\n",
       "703     2  115911.299001\n",
       "705     4  217386.920854\n",
       "119     6  194812.264980\n",
       "311     7  199813.812996\n",
       "400    17  213402.280750\n",
       "..    ...            ...\n",
       "536  2919   79525.542198\n",
       "178  2921   86903.381458\n",
       "828  2922  167134.275879\n",
       "668  2925  177000.418239\n",
       "674  2928  126719.274761\n",
       "\n",
       "[878 rows x 2 columns]"
      ],
      "text/html": "<div>\n<style scoped>\n    .dataframe tbody tr th:only-of-type {\n        vertical-align: middle;\n    }\n\n    .dataframe tbody tr th {\n        vertical-align: top;\n    }\n\n    .dataframe thead th {\n        text-align: right;\n    }\n</style>\n<table border=\"1\" class=\"dataframe\">\n  <thead>\n    <tr style=\"text-align: right;\">\n      <th></th>\n      <th>Id</th>\n      <th>SalePrice</th>\n    </tr>\n  </thead>\n  <tbody>\n    <tr>\n      <th>703</th>\n      <td>2</td>\n      <td>115911.299001</td>\n    </tr>\n    <tr>\n      <th>705</th>\n      <td>4</td>\n      <td>217386.920854</td>\n    </tr>\n    <tr>\n      <th>119</th>\n      <td>6</td>\n      <td>194812.264980</td>\n    </tr>\n    <tr>\n      <th>311</th>\n      <td>7</td>\n      <td>199813.812996</td>\n    </tr>\n    <tr>\n      <th>400</th>\n      <td>17</td>\n      <td>213402.280750</td>\n    </tr>\n    <tr>\n      <th>...</th>\n      <td>...</td>\n      <td>...</td>\n    </tr>\n    <tr>\n      <th>536</th>\n      <td>2919</td>\n      <td>79525.542198</td>\n    </tr>\n    <tr>\n      <th>178</th>\n      <td>2921</td>\n      <td>86903.381458</td>\n    </tr>\n    <tr>\n      <th>828</th>\n      <td>2922</td>\n      <td>167134.275879</td>\n    </tr>\n    <tr>\n      <th>668</th>\n      <td>2925</td>\n      <td>177000.418239</td>\n    </tr>\n    <tr>\n      <th>674</th>\n      <td>2928</td>\n      <td>126719.274761</td>\n    </tr>\n  </tbody>\n</table>\n<p>878 rows × 2 columns</p>\n</div>"
     },
     "metadata": {},
     "execution_count": 225
    }
   ],
   "source": [
    "results.sort_values(by='Id')"
   ]
  },
  {
   "cell_type": "code",
   "execution_count": 226,
   "metadata": {},
   "outputs": [],
   "source": [
    "results.sort_values(by='Id').to_csv('datasets/result1.csv',index=False)"
   ]
  },
  {
   "cell_type": "code",
   "execution_count": 227,
   "metadata": {},
   "outputs": [],
   "source": [
    "#test file for Kaggle"
   ]
  },
  {
   "cell_type": "code",
   "execution_count": null,
   "metadata": {},
   "outputs": [],
   "source": []
  }
 ],
 "metadata": {
  "kernelspec": {
   "name": "python385jvsc74a57bd05a320894b34090ecca04137520f6fe2ac50253f9dcf4b51d9c389ebaa9d4cf20",
   "display_name": "Python 3.8.5 64-bit ('base': conda)"
  },
  "language_info": {
   "codemirror_mode": {
    "name": "ipython",
    "version": 3
   },
   "file_extension": ".py",
   "mimetype": "text/x-python",
   "name": "python",
   "nbconvert_exporter": "python",
   "pygments_lexer": "ipython3",
   "version": "3.8.5"
  }
 },
 "nbformat": 4,
 "nbformat_minor": 4
}